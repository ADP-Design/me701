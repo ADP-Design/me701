{
 "cells": [
  {
   "cell_type": "markdown",
   "metadata": {
    "slideshow": {
     "slide_type": "slide"
    }
   },
   "source": [
    "# More On The Linux Command Line\n",
    "\n",
    "By the end of this lecture, you'll know how to search for files, search in files (for simple things), pipe and redirect things, set (environment) variables temporarily and permanently, and set permissions for a simple `Bash` script."
   ]
  },
  {
   "cell_type": "markdown",
   "metadata": {
    "slideshow": {
     "slide_type": "subslide"
    }
   },
   "source": [
    "## Required Preparation\n",
    "\n",
    "- Bring a laptop with Linux Mint ready for use.\n",
    "- Read Chapters 9, 10, 11, 17, and 18 of [The Linux Command Line](https://sourceforge.net/projects/linuxcommand/).  (Some overlap with last time)\n",
    "- Continue your \"cheat sheet\" of the commands that appear to be useful.  "
   ]
  }
 ],
 "metadata": {
  "celltoolbar": "Slideshow",
  "kernelspec": {
   "display_name": "Python 3",
   "language": "python",
   "name": "python3"
  },
  "language_info": {
   "codemirror_mode": {
    "name": "ipython",
    "version": 3
   },
   "file_extension": ".py",
   "mimetype": "text/x-python",
   "name": "python",
   "nbconvert_exporter": "python",
   "pygments_lexer": "ipython3",
   "version": "3.6.8"
  }
 },
 "nbformat": 4,
 "nbformat_minor": 2
}

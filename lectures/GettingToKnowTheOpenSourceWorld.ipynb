{
 "cells": [
  {
   "cell_type": "markdown",
   "metadata": {
    "slideshow": {
     "slide_type": "slide"
    }
   },
   "source": [
    "# GettingToKnowTheOpenSourceWorld\n",
    "\n",
    "By the end of this lecture, you'll know how to navigate Linux Mint and the software repository.  You will also have installed and/or used a variety of open-source software."
   ]
  },
  {
   "cell_type": "markdown",
   "metadata": {
    "slideshow": {
     "slide_type": "subslide"
    }
   },
   "source": [
    "## Required Preparation\n",
    "\n",
    "- Bring a laptop with Linux Mint installed.\n",
    "- Read [Linux and the GNU System](https://www.gnu.org/gnu/about-gnu.html)\n",
    "- Skim [GNU General Public License](https://www.gnu.org/licenses/gpl-3.0.html)\n",
    "- Skim [MIT License](https://opensource.org/licenses/MIT)"
   ]
  },
  {
   "cell_type": "markdown",
   "metadata": {
    "slideshow": {
     "slide_type": "subslide"
    }
   },
   "source": [
    "## Flavors of Linux\n",
    "\n",
    "- Debian [1993]\n",
    "  - Ubuntu [2004]\n",
    "    - Linux Mint [2006]\n",
    "- SuSE [1994]\n",
    "  - openSuse [2005]\n",
    "- Red Hat [1995]\n",
    "  - Fedora [2003]\n",
    "    - Red Hat Enterprise Linux [RHEL]\n",
    "       - CentOS\n",
    "\n",
    "Many others, but these are the heavy hitters."
   ]
  },
  {
   "cell_type": "markdown",
   "metadata": {
    "slideshow": {
     "slide_type": "subslide"
    }
   },
   "source": [
    "## Who Uses It?\n",
    "\n",
    "https://en.wikipedia.org/wiki/Usage_share_of_operating_systems"
   ]
  },
  {
   "cell_type": "code",
   "execution_count": null,
   "metadata": {},
   "outputs": [],
   "source": []
  }
 ],
 "metadata": {
  "celltoolbar": "Slideshow",
  "kernelspec": {
   "display_name": "Python 3",
   "language": "python",
   "name": "python3"
  },
  "language_info": {
   "codemirror_mode": {
    "name": "ipython",
    "version": 3
   },
   "file_extension": ".py",
   "mimetype": "text/x-python",
   "name": "python",
   "nbconvert_exporter": "python",
   "pygments_lexer": "ipython3",
   "version": "3.6.8"
  }
 },
 "nbformat": 4,
 "nbformat_minor": 2
}

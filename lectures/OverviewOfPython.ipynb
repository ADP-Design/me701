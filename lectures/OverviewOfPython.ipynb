{
 "cells": [
  {
   "cell_type": "markdown",
   "metadata": {
    "slideshow": {
     "slide_type": "slide"
    }
   },
   "source": [
    "# Overview of Python\n",
    "\n",
    "By the end of this lesson, you'll be using Python as a graphing calculator using the Spyder IDE.  We'll focus primarily on use of NumPy arrays and simple plots."
   ]
  },
  {
   "cell_type": "markdown",
   "metadata": {
    "slideshow": {
     "slide_type": "subslide"
    }
   },
   "source": [
    "## Required Preparation\n",
    "\n",
    "- Review lectures 1--4 of [ME 400 Notes](https://robertsj.github.io/me400_notes/index.html)\n",
    "- If you are new to Python, start to make a cheat sheet based on these lectures.  (Good for experienced Pythonistas, too)"
   ]
  },
  {
   "cell_type": "markdown",
   "metadata": {
    "slideshow": {
     "slide_type": "slide"
    }
   },
   "source": [
    "# Integrated Development Environments\n",
    "\n",
    "IDEs are self-contained, code-development systems.  We'll use Spyder, which is a good IDE for technical computing.  Others:\n",
    "\n",
    "  - PyCharm\n",
    "  - Visual Studio Code\n",
    "  - PyDev (an Eclipse plugin)\n",
    "  - (Jupyter)"
   ]
  },
  {
   "cell_type": "markdown",
   "metadata": {
    "slideshow": {
     "slide_type": "subslide"
    }
   },
   "source": [
    "# Topics\n",
    "\n",
    " - basic types\n",
    " - arithmetic and logical operators\n",
    " - NumPy arrays and `slicing`\n",
    " - simple plots"
   ]
  }
 ],
 "metadata": {
  "celltoolbar": "Slideshow",
  "kernelspec": {
   "display_name": "Python 3",
   "language": "python",
   "name": "python3"
  },
  "language_info": {
   "codemirror_mode": {
    "name": "ipython",
    "version": 3
   },
   "file_extension": ".py",
   "mimetype": "text/x-python",
   "name": "python",
   "nbconvert_exporter": "python",
   "pygments_lexer": "ipython3",
   "version": "3.7.3"
  }
 },
 "nbformat": 4,
 "nbformat_minor": 2
}

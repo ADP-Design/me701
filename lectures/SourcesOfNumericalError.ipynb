{
 "cells": [
  {
   "cell_type": "markdown",
   "metadata": {
    "slideshow": {
     "slide_type": "slide"
    }
   },
   "source": [
    "# Sources of Numerical Error\n",
    "\n",
    "By the end of this lecture, you will be able to describe two common sources of errors encountered in numerical computation, namely *roundoff* and *truncation* error.  The first is an ever present but often neglibible feature of floating-point arithmetic.  The second arises any time we apply discretization to continuous domains, e.g., with use of finite-difference approximations for derivatives."
   ]
  },
  {
   "cell_type": "markdown",
   "metadata": {
    "slideshow": {
     "slide_type": "subslide"
    }
   },
   "source": [
    "## Required Preparation\n",
    "\n",
    "- Review [finite differences](https://robertsj.github.io/me400_notes/lectures/Numerical_Differentiation.html) for context.\n",
    "- Skim the Wikipedia article on the [IEEE_754](https://en.wikipedia.org/wiki/IEEE_754) floating-point standard and tinker with [this neat tool](https://www.h-schmidt.net/FloatConverter/IEEE754.html)."
   ]
  },
  {
   "cell_type": "markdown",
   "metadata": {
    "slideshow": {
     "slide_type": "fragment"
    }
   },
   "source": [
    "## Basic Linear System\n",
    "\n",
    "Consider the forward difference approximation for $\\frac{dy}{dx}\\Big |_{x=1/2}$ with $y(x) = \\sin^2(x)$.  (Note, actual derivative is $2\\sin(x)\\cos(x)$)."
   ]
  },
  {
   "cell_type": "code",
   "execution_count": null,
   "metadata": {},
   "outputs": [],
   "source": [
    "import numpy as np\n",
    "import matplotlib.pyplot as plt\n",
    "f = lambda z: np.sin(z)**2\n",
    "delta = np.logspace(-8,-1)\n",
    "x = 0.5\n",
    "dfdx_approx = np.zeros(len(delta))\n",
    "dfdx_actual = 2*np.sin(x)*np.cos(x)\n",
    "for i in range(len(delta)):\n",
    "    dfdx_approx[i] = (f(x)-f(x-delta[i]))/delta[i]\n",
    "error = abs(dfdx_approx - dfdx_actual)\n",
    "plt.loglog(delta, error, 'k-',\n",
    "           delta, delta, 'r--')\n",
    "plt.legend(['abs error', 'expected behavior'])\n",
    "plt.xlabel('$\\delta$')\n",
    "plt.grid(True)"
   ]
  },
  {
   "cell_type": "markdown",
   "metadata": {
    "slideshow": {
     "slide_type": "slide"
    }
   },
   "source": [
    "## Representing Numbers\n",
    "\n",
    "We can write any number $x$ in the form\n",
    "\n",
    "$$\n",
    "  x =  (d_n \\ldots d_2 d_1 d_0.d_{-1}d_{-2}\\ldots )_{b}\n",
    "$$\n",
    "\n",
    "where the integer $b$ is the *base*, $d_i \\in [0, b)$ is an integer, and the $.$ between $d_0$ and $d_{-1}$ separates the integral from the fractional components."
   ]
  },
  {
   "cell_type": "markdown",
   "metadata": {
    "slideshow": {
     "slide_type": "fragment"
    }
   },
   "source": [
    "For $b = 2$, we have the base-2 or *binary* system.  For $b=10$, we have the *decimal* system."
   ]
  },
  {
   "cell_type": "markdown",
   "metadata": {
    "slideshow": {
     "slide_type": "fragment"
    }
   },
   "source": [
    "The value of $x$ in the *decimal* system is\n",
    "\n",
    "$$\n",
    " x =   d_n b^n + \\ldots + d_2 b^2 + d_1 b^1 + d_0 b^0 + d_{-1} b^{-1} + \\ldots \n",
    "$$"
   ]
  },
  {
   "cell_type": "markdown",
   "metadata": {
    "slideshow": {
     "slide_type": "subslide"
    }
   },
   "source": [
    "**Exercise**:  Do the following conversions from base-10 to base-2 representations.\n",
    "\n",
    "  - $10010_2 = \\,  ???_{10}$\n",
    "  - $10.01_2 = \\,  ???_{10}$\n",
    "  - $123_{10} = \\, ???_2 $\n",
    "  - $1.125_{10} =  \\, ???_2$\n",
    "  - $0.1_{10}  = \\, ???_2$"
   ]
  },
  {
   "cell_type": "markdown",
   "metadata": {
    "slideshow": {
     "slide_type": "subslide"
    }
   },
   "source": [
    "## A Fixed-Point System\n",
    "\n",
    "An easy, finite-memory solution would be to enforce a *fixed-point* number format, e.g., the 8-bit\n",
    "\n",
    "$$\n",
    "  (d_3 d_2 d_1 d_0.d_{-1}d_{-2}d_{-3}d_{-4})_{2}\n",
    "$$"
   ]
  },
  {
   "cell_type": "markdown",
   "metadata": {
    "slideshow": {
     "slide_type": "fragment"
    }
   },
   "source": [
    "What are the largest and smallest positive numbers one can store (in base-10)?"
   ]
  },
  {
   "cell_type": "markdown",
   "metadata": {
    "slideshow": {
     "slide_type": "subslide"
    }
   },
   "source": [
    "## Floating-Point Numbers\n",
    "\n",
    "A more flexible alternative is a *floating-point* representation, which\n",
    "has the generic form (in base-2)\n",
    "\n",
    "$$\n",
    "  \\pm (d_0.d_1 d_2 d_3 \\ldots d_{p-1})2^e\n",
    "$$\n",
    "\n",
    "where $d$ is 0 or 1, the precision $p$ is a finite\n",
    "integer, and the exponent $e$ is bounded by $e_{L} \\leq e \\leq e_U$\n",
    "for integers $e_L$ and $e_U$."
   ]
  },
  {
   "cell_type": "markdown",
   "metadata": {
    "slideshow": {
     "slide_type": "fragment"
    }
   },
   "source": [
    "How many bits are required to store a number in this format?"
   ]
  },
  {
   "cell_type": "markdown",
   "metadata": {
    "slideshow": {
     "slide_type": "subslide"
    }
   },
   "source": [
    "## The IEEE Standard\n",
    "\n",
    "Adopts basic format above along with the following specifications:\n",
    "\n",
    "  - $d_0$ is *always* set to be 1 through *normalization* (a free bit)\n",
    "  - Exponent represented as $e - \\beta$, where $e \\in [1, e_u]$ (so no explicit sign bit needed)\n",
    "  - For *single precision* (32-bits), 1 for sign, 8 for exponent, 23 for fraction, $\\beta = 127$\n",
    "  - For *double precision* (64-bits), 1 for sign, 11 for exponent, 52 for fraction, $\\beta = 1023$\n",
    "  \n",
    "So, $x =  (-1)^s \\times (1.d_1d_2d_3\\ldots d_{p}) \\times 2^{e -\\beta}$"
   ]
  },
  {
   "cell_type": "markdown",
   "metadata": {
    "slideshow": {
     "slide_type": "fragment"
    }
   },
   "source": [
    "Some questions:\n",
    "\n",
    " - What is the *largest, positive* number?\n",
    " - What is difference between one and the next number after 1?"
   ]
  },
  {
   "cell_type": "code",
   "execution_count": null,
   "metadata": {},
   "outputs": [],
   "source": [
    "e = 2**11-1\n",
    "beta = 1023"
   ]
  },
  {
   "cell_type": "code",
   "execution_count": null,
   "metadata": {},
   "outputs": [],
   "source": [
    "import sys\n",
    "sys.float_info"
   ]
  }
 ],
 "metadata": {
  "celltoolbar": "Slideshow",
  "kernelspec": {
   "display_name": "Python 3",
   "language": "python",
   "name": "python3"
  },
  "language_info": {
   "codemirror_mode": {
    "name": "ipython",
    "version": 3
   },
   "file_extension": ".py",
   "mimetype": "text/x-python",
   "name": "python",
   "nbconvert_exporter": "python",
   "pygments_lexer": "ipython3",
   "version": "3.7.3"
  }
 },
 "nbformat": 4,
 "nbformat_minor": 2
}

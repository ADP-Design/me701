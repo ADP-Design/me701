{
 "cells": [
  {
   "cell_type": "markdown",
   "metadata": {
    "slideshow": {
     "slide_type": "slide"
    }
   },
   "source": [
    "# A survey of I/O Formats\n",
    "\n",
    "By the end of this lesson, you should be able to list at least three different ways that data can be stored and to use the corresponding tools needed to load and save data to and from those formats."
   ]
  },
  {
   "cell_type": "markdown",
   "metadata": {
    "slideshow": {
     "slide_type": "subslide"
    }
   },
   "source": [
    "## Required Preparation\n",
    "\n",
    "- Read [File handling](https://www.pythonforbeginners.com/cheatsheet/python-file-handling)\n",
    "- Read the documentation about NumPy's [loadtxt](https://docs.scipy.org/doc/numpy/reference/generated/numpy.loadtxt.html) and [savetxt](https://docs.scipy.org/doc/numpy/reference/generated/numpy.savetxt.html) functions.  Also peruse this neat, advanced [example](https://scipython.com/book/chapter-6-numpy/examples/using-numpys-loadtxt-method/) using the same.\n",
    "- Read the [JSON module](https://docs.python.org/3/library/json.html) documentation.\n",
    "- Read the  [h5py Quick Start](http://docs.h5py.org/en/stable/quick.html) and execute `conda install h5py`."
   ]
  },
  {
   "cell_type": "markdown",
   "metadata": {
    "slideshow": {
     "slide_type": "slide"
    }
   },
   "source": [
    "## Basic File I/O via File Handles\n",
    "\n",
    "```python\n",
    "f = open(filename, 'r')\n",
    "s = f.read() # reads whole file as one string\n",
    "# lines = f.readlines() # produces a list of strings for each line\n",
    "f.close()\n",
    "\n",
    "f.open(filename, 'w')\n",
    "f.write(s) # write a string to file\n",
    "f.close()\n",
    "```"
   ]
  },
  {
   "cell_type": "markdown",
   "metadata": {
    "slideshow": {
     "slide_type": "subslide"
    }
   },
   "source": [
    "## Processing Data Requires `str` Manipulation\n",
    "\n",
    "```python\n",
    "token in line  # e.g., \"hello\" in \"i always say hello, world!\"\n",
    "line.find(token) # e.g., line.find(h\n",
    "line.split()\n",
    "line.split(',')\n",
    "line.replace(',', '')\n",
    "```"
   ]
  },
  {
   "cell_type": "markdown",
   "metadata": {
    "slideshow": {
     "slide_type": "subslide"
    }
   },
   "source": [
    "## Exercise 1\n",
    "\n",
    "Run the following code"
   ]
  },
  {
   "cell_type": "code",
   "execution_count": null,
   "metadata": {
    "slideshow": {
     "slide_type": "fragment"
    }
   },
   "outputs": [],
   "source": [
    "s = \"\"\"\n",
    "  inp.put_int(\"number_groups\",                      2)\n",
    "  inp.put_int(\"dimension\",                          2)\n",
    "  inp.put_str(\"equation\",                           \"diffusion\")\n",
    "  inp.put_str(\"bc_west\",                            \"reflect\")\n",
    "  inp.put_str(\"bc_east\",                            \"vacuum\")\n",
    "  inp.put_str(\"bc_south\",                           \"reflect\")\n",
    "  inp.put_str(\"bc_north\",                           \"vacuum\")\n",
    "\"\"\"\n",
    "f = open('ex1.txt', 'w')\n",
    "f.write(s)\n",
    "f.close()"
   ]
  },
  {
   "cell_type": "markdown",
   "metadata": {
    "slideshow": {
     "slide_type": "fragment"
    }
   },
   "source": [
    "Then, write a short program to read this file and produce a dictionary of the form `{'number_groups\": 1, 'bc_south', 'reflect'}`, etc.  Remember, given a dictionary `d = {}`, add a key-value pair by doing, e.g., `d['dimension'] = 2`."
   ]
  },
  {
   "cell_type": "markdown",
   "metadata": {},
   "source": [
    "# I/O Using NumPy\n",
    "\n",
    "If you have data that looks like \n",
    "\n",
    "```\n",
    " T [K],     P [MPa],  rho [kg/m^3],\n",
    " 293.150,   2.000,     999.073,\n",
    " 293.150,   4.000,     999.982,\n",
    " 293.150,   6.000,    1000.888,\n",
    " 293.150,   8.000,    1001.791,\n",
    " 313.150,   2.000,     993.053,\n",
    " 313.150,   4.000,     993.924,\n",
    "```\n",
    "\n",
    "then `np.loadtxt` is your friend."
   ]
  },
  {
   "cell_type": "markdown",
   "metadata": {
    "slideshow": {
     "slide_type": "subslide"
    }
   },
   "source": [
    "Execute the following:"
   ]
  },
  {
   "cell_type": "code",
   "execution_count": null,
   "metadata": {
    "slideshow": {
     "slide_type": "fragment"
    }
   },
   "outputs": [],
   "source": [
    "f = open('ex2.txt', 'w')\n",
    "f.write(\"\"\"T [K],   P [MPa],  rho [kg/m^3],\n",
    " 293.150,   2.000,    999.073,\n",
    " 293.150,   4.000,    999.982,\n",
    " 293.150,   6.000,   1000.888,\n",
    " 293.150,   8.000,   1001.791,\n",
    " 313.150,   2.000,    993.053,\n",
    " 313.150,   4.000,    993.924,\"\"\")\n",
    "f.close()"
   ]
  },
  {
   "cell_type": "markdown",
   "metadata": {
    "slideshow": {
     "slide_type": "fragment"
    }
   },
   "source": [
    "Now, use `np.loadtxt` to produce two arrays `T` and `rho`.  Can you do it in just one line? (Hint: look through the optional arguments!)"
   ]
  },
  {
   "cell_type": "markdown",
   "metadata": {
    "slideshow": {
     "slide_type": "subslide"
    }
   },
   "source": [
    "## Human Readable but Flexible: `json`"
   ]
  },
  {
   "cell_type": "markdown",
   "metadata": {
    "slideshow": {
     "slide_type": "fragment"
    }
   },
   "source": [
    "Lots of human-readable formats out there: XML (sorta ugly), JSON, YAML.  JSON is great since it's like a Python dictionary."
   ]
  },
  {
   "cell_type": "code",
   "execution_count": null,
   "metadata": {
    "slideshow": {
     "slide_type": "fragment"
    }
   },
   "outputs": [],
   "source": [
    "import json\n",
    "\n",
    "d = {'dog': \"Fido\", \n",
    "     'x': [1.0, 2.0, 3.0],\n",
    "     'pi': 3.14}\n",
    "\n",
    "f = open('test.json', 'w')\n",
    "json.dump(d, f)\n",
    "f.close()\n",
    "\n",
    "!more test.json"
   ]
  },
  {
   "cell_type": "markdown",
   "metadata": {
    "slideshow": {
     "slide_type": "subslide"
    }
   },
   "source": [
    "## Exercise 3\n",
    "\n",
    "Look up `json.load` and produce a new dictionary object `D` that contains the stuff stoed in `test.json`."
   ]
  },
  {
   "cell_type": "markdown",
   "metadata": {
    "slideshow": {
     "slide_type": "slide"
    }
   },
   "source": [
    "# Easy Peasy With Pickle\n",
    "\n",
    "```python\n",
    "import pickle\n",
    "pickle.dump(d, open('test.p', 'w'))  # try 'wb'\n",
    "D = pickle.load(open('test.p', 'r'))  # try 'rb'\n",
    "```\n",
    "\n",
    "## Exercise 4\n",
    "\n",
    "Use the above code to write out the pickle file.  Look at it (use `more`).  Then read it.  Repeat using `wb` and `rb`.  Any differences?"
   ]
  },
  {
   "cell_type": "code",
   "execution_count": null,
   "metadata": {
    "slideshow": {
     "slide_type": "fragment"
    }
   },
   "outputs": [],
   "source": []
  },
  {
   "cell_type": "markdown",
   "metadata": {},
   "source": [
    "# HDF5 for Large-Scale Data"
   ]
  },
  {
   "cell_type": "code",
   "execution_count": null,
   "metadata": {},
   "outputs": [],
   "source": [
    "import h5py\n",
    "import numpy as np\n",
    "\n",
    "name =  'mytestfile.hdf5'\n",
    "f = h5py.File('mytestfile.hdf5', 'w')\n",
    "\n",
    "# some \"attributes\" for the \"root\" group\n",
    "f.attrs['file_name'] = 'mytestfile.hdf5'\n",
    "f.attrs['author'] = 'roberts'\n",
    "\n",
    "# make a new group and give it an attribute\n",
    "day1 = f.create_group('day1')\n",
    "day1.attrs['note'] = 'Experiments from day 1'\n",
    "# add some datasets\n",
    "day1.create_dataset(\"array\", data=np.random.rand(10))\n",
    "\n",
    "f.close()"
   ]
  },
  {
   "cell_type": "code",
   "execution_count": null,
   "metadata": {},
   "outputs": [],
   "source": [
    "!h5dump mytestfile.hdf5"
   ]
  },
  {
   "cell_type": "code",
   "execution_count": null,
   "metadata": {},
   "outputs": [],
   "source": []
  }
 ],
 "metadata": {
  "celltoolbar": "Slideshow",
  "kernelspec": {
   "display_name": "Python 3",
   "language": "python",
   "name": "python3"
  },
  "language_info": {
   "codemirror_mode": {
    "name": "ipython",
    "version": 3
   },
   "file_extension": ".py",
   "mimetype": "text/x-python",
   "name": "python",
   "nbconvert_exporter": "python",
   "pygments_lexer": "ipython3",
   "version": "3.7.3"
  },
  "livereveal": {
   "scroll": true
  }
 },
 "nbformat": 4,
 "nbformat_minor": 2
}

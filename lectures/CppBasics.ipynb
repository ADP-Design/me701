{
 "cells": [
  {
   "cell_type": "markdown",
   "metadata": {
    "slideshow": {
     "slide_type": "slide"
    }
   },
   "source": [
    "## C++ Basics\n",
    "\n",
    "In this lesson, the basic syntax of C++ is introduced with parallels drawn to analogous features of `Python` as is needed.  In order to run this worksheet, you must install `xeus-cling` via\n",
    "\n",
    "```\n",
    "conda install xeus-cling -c conda-forge\n",
    "```\n",
    "\n",
    "This installs a `C++` interpreter (i.e., something that can chomp on C++ code on-the-fly like Python) and an associated kernel for use in Jupyter.  This is *not* the way to use C++ in practice, but I'll use it for introducing syntax, short use cases, and comparisons to Python. \n",
    "\n",
    "For compiling code later in the lesson, you'll need to install `g++` via\n",
    "\n",
    "```\n",
    "sudo apt install g++\n",
    "```\n",
    "\n",
    "\n",
    "My philosophy for this and the next several lessons is to *teach programmers how to program in C++*.  The catch is that you've got to be solid with Python (or something else) already!"
   ]
  },
  {
   "cell_type": "markdown",
   "metadata": {
    "slideshow": {
     "slide_type": "subslide"
    }
   },
   "source": [
    "## Required Preparation\n",
    "\n",
    " - Read Chapters 1--7 of Allen Downey, *Think C++*; it's available for free [online](http://greenteapress.com/thinkcpp/thinkCScpp.pdf).  \n",
    " - Install `xeus-cling` and `g++`\n",
    " - Run at least the next cell before class and inform Prof. Roberts of any issues via `#lecture` channel on Slack."
   ]
  },
  {
   "cell_type": "code",
   "execution_count": null,
   "metadata": {
    "slideshow": {
     "slide_type": "fragment"
    }
   },
   "outputs": [],
   "source": [
    "#include <iostream>\n",
    "int a = 123;\n",
    "double b = 3.14;\n",
    "std::cout << \"Hello, world!  By the way, a = \" << a << \" and b = \" << b << std::endl;"
   ]
  },
  {
   "cell_type": "markdown",
   "metadata": {
    "slideshow": {
     "slide_type": "fragment"
    }
   },
   "source": [
    "The output should be \n",
    "```\n",
    "Hello, world!  By the way, a = 123 and b = 3.14\n",
    "```"
   ]
  },
  {
   "cell_type": "markdown",
   "metadata": {
    "slideshow": {
     "slide_type": "subslide"
    }
   },
   "source": [
    "## Objectives\n",
    "\n",
    "- Define variables of basic types\n",
    "- Use basic variables with arithmetic and other operations\n",
    "- Apply selection (`if`'s) and iteration (`while` and `for`)\n",
    "- Write, compile, and execute first C++ program"
   ]
  },
  {
   "cell_type": "markdown",
   "metadata": {
    "slideshow": {
     "slide_type": "slide"
    }
   },
   "source": [
    "## Declaring and Initializing Variables\n",
    "\n",
    "C++ is *statically* typed, unlike Python, which is *dynamically typed*.  That means, in Python, one can do this with no problem:\n",
    "\n",
    "```python\n",
    "i = 123 # a is first defined and assigned an integer value\n",
    "i = 1.23 # a is reassigned a float value\n",
    "```\n",
    "\n",
    "No so in C++, which requires one *declare the type*.  The built-in types are similar to those in Python and include `int`, `float`, `bool`, `char`, `double`, and `unsigned`.  In addition, a variable can be declared as `const` (making it \"immutable\")."
   ]
  },
  {
   "cell_type": "code",
   "execution_count": null,
   "metadata": {
    "slideshow": {
     "slide_type": "subslide"
    }
   },
   "outputs": [],
   "source": [
    "// int and unsigned\n"
   ]
  },
  {
   "cell_type": "code",
   "execution_count": 1,
   "metadata": {},
   "outputs": [],
   "source": [
    "// float and double\n",
    "float f = 0.1;\n",
    "double d = 0.1;"
   ]
  },
  {
   "cell_type": "code",
   "execution_count": 8,
   "metadata": {},
   "outputs": [
    {
     "data": {
      "text/plain": [
       "0.1f"
      ]
     },
     "execution_count": 8,
     "metadata": {},
     "output_type": "execute_result"
    }
   ],
   "source": [
    "#include <cstdio>\n",
    "std::printf(\"%20.16f %20.16f\", f, d);\n",
    "f"
   ]
  },
  {
   "cell_type": "markdown",
   "metadata": {},
   "source": [
    "## Declarin"
   ]
  },
  {
   "cell_type": "code",
   "execution_count": null,
   "metadata": {},
   "outputs": [],
   "source": [
    "double *a;\n",
    "double b = 2.23;"
   ]
  },
  {
   "cell_type": "code",
   "execution_count": null,
   "metadata": {},
   "outputs": [],
   "source": [
    "a = &b;"
   ]
  },
  {
   "cell_type": "code",
   "execution_count": null,
   "metadata": {},
   "outputs": [],
   "source": [
    "*a"
   ]
  },
  {
   "cell_type": "code",
   "execution_count": null,
   "metadata": {},
   "outputs": [],
   "source": [
    "*a = 3.14;"
   ]
  },
  {
   "cell_type": "code",
   "execution_count": null,
   "metadata": {},
   "outputs": [],
   "source": [
    "b"
   ]
  },
  {
   "cell_type": "code",
   "execution_count": null,
   "metadata": {},
   "outputs": [],
   "source": [
    "const int c = 9;"
   ]
  },
  {
   "cell_type": "code",
   "execution_count": null,
   "metadata": {},
   "outputs": [],
   "source": [
    "c"
   ]
  },
  {
   "cell_type": "code",
   "execution_count": null,
   "metadata": {},
   "outputs": [],
   "source": [
    "c = 10"
   ]
  },
  {
   "cell_type": "code",
   "execution_count": null,
   "metadata": {},
   "outputs": [],
   "source": [
    "double C[6] = {1,2,3,4,5,6};\n",
    "C"
   ]
  },
  {
   "cell_type": "code",
   "execution_count": null,
   "metadata": {},
   "outputs": [],
   "source": [
    "C[0]"
   ]
  },
  {
   "cell_type": "code",
   "execution_count": null,
   "metadata": {},
   "outputs": [],
   "source": [
    "#define ADD(a, b) a + b;"
   ]
  },
  {
   "cell_type": "code",
   "execution_count": null,
   "metadata": {},
   "outputs": [],
   "source": [
    "ADD(*a, b)"
   ]
  },
  {
   "cell_type": "code",
   "execution_count": null,
   "metadata": {},
   "outputs": [],
   "source": [
    "namespace poo {\n",
    "    double a = 1.23;\n",
    "}"
   ]
  },
  {
   "cell_type": "code",
   "execution_count": null,
   "metadata": {},
   "outputs": [],
   "source": [
    "poo::a"
   ]
  },
  {
   "cell_type": "code",
   "execution_count": null,
   "metadata": {},
   "outputs": [],
   "source": [
    "a"
   ]
  },
  {
   "cell_type": "code",
   "execution_count": null,
   "metadata": {},
   "outputs": [],
   "source": []
  }
 ],
 "metadata": {
  "celltoolbar": "Slideshow",
  "kernelspec": {
   "display_name": "C++17",
   "language": "C++17",
   "name": "xcpp17"
  },
  "language_info": {
   "codemirror_mode": "text/x-c++src",
   "file_extension": ".cpp",
   "mimetype": "text/x-c++src",
   "name": "c++",
   "version": "-std=c++17"
  }
 },
 "nbformat": 4,
 "nbformat_minor": 2
}

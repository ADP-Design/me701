{
 "cells": [
  {
   "cell_type": "markdown",
   "metadata": {
    "slideshow": {
     "slide_type": "slide"
    }
   },
   "source": [
    "## C++ Basics\n",
    "\n",
    "In this lesson, the basic syntax of C++ is introduced with parallels drawn to analogous features of `Python` as is needed.  In order to run this worksheet, you must install `xeus-cling` via\n",
    "\n",
    "```\n",
    "conda install xeus-cling -c conda-forge\n",
    "```\n",
    "\n",
    "This installs a `C++` interpreter (i.e., something that can chomp on C++ code on-the-fly like Python) and an associated kernel for use in Jupyter.  This is *not* the way to use C++ in practice, but I'll use it for introducing syntax, short use cases, and comparisons to Python. \n",
    "\n",
    "For compiling code later in the lesson, you'll need to install `g++` via\n",
    "\n",
    "```\n",
    "sudo apt install g++\n",
    "```\n",
    "\n",
    "\n",
    "My philosophy for this and the next several lessons is to *teach programmers how to program in C++*.  The catch is that you've got to be solid with Python (or something else) already!"
   ]
  },
  {
   "cell_type": "markdown",
   "metadata": {
    "slideshow": {
     "slide_type": "subslide"
    }
   },
   "source": [
    "## Required Preparation\n",
    "\n",
    " - Read Chapters 1--7 of Allen Downey, *Think C++*; it's available for free [online](http://greenteapress.com/thinkcpp/thinkCScpp.pdf).  \n",
    " - Install `xeus-cling` and `g++`\n",
    " - Run at least the next cell before class and inform Prof. Roberts of any issues via `#lecture` channel on Slack."
   ]
  },
  {
   "cell_type": "code",
   "execution_count": 19,
   "metadata": {
    "slideshow": {
     "slide_type": "fragment"
    }
   },
   "outputs": [
    {
     "name": "stdout",
     "output_type": "stream",
     "text": [
      "Hello, world!  By the way, a = 123 and b = 3.14\n"
     ]
    }
   ],
   "source": [
    "#include <iostream>\n",
    "int a = 123;\n",
    "double b = 3.14;\n",
    "std::cout << \"Hello, world!  By the way, a = \" << a << \" and b = \" << b << std::endl;"
   ]
  },
  {
   "cell_type": "markdown",
   "metadata": {
    "slideshow": {
     "slide_type": "fragment"
    }
   },
   "source": [
    "The output should be \n",
    "```\n",
    "Hello, world!  By the way, a = 123 and b = 3.14\n",
    "```"
   ]
  },
  {
   "cell_type": "markdown",
   "metadata": {
    "slideshow": {
     "slide_type": "subslide"
    }
   },
   "source": [
    "## Objectives\n",
    "\n",
    "- Define variables of basic types\n",
    "- Use basic variables with arithmetic and other operations\n",
    "- Apply selection (`if`'s) and iteration (`while` and `for`)\n",
    "- Write, compile, and execute first C++ program"
   ]
  },
  {
   "cell_type": "markdown",
   "metadata": {
    "slideshow": {
     "slide_type": "slide"
    }
   },
   "source": [
    "## Declaring and Initializing Variables\n",
    "\n",
    "C++ is *statically* typed, unlike Python, which is *dynamically typed*.  That means, in Python, one can do this with no problem:\n",
    "\n",
    "```python\n",
    "i = 123 # a is first defined and assigned an integer value\n",
    "i = 1.23 # a is reassigned a float value\n",
    "```\n",
    "\n",
    "No so in C++, which requires one *declare the type*.  The built-in types are similar to those in Python and include `int`, `float`, `bool`, `char`, `double`, and `unsigned`.  In addition, a variable can be declared as `const` (making it \"immutable\")."
   ]
  },
  {
   "cell_type": "code",
   "execution_count": null,
   "metadata": {
    "slideshow": {
     "slide_type": "subslide"
    }
   },
   "outputs": [],
   "source": [
    "// int and unsigned\n"
   ]
  },
  {
   "cell_type": "code",
   "execution_count": null,
   "metadata": {
    "slideshow": {
     "slide_type": "subslide"
    }
   },
   "outputs": [],
   "source": [
    "// float and double\n"
   ]
  },
  {
   "cell_type": "code",
   "execution_count": null,
   "metadata": {
    "slideshow": {
     "slide_type": "fragment"
    }
   },
   "outputs": [],
   "source": [
    "#include <cstdio>\n",
    "std::printf(\"%.16f %.16f\", f, d); // too bad does not work in Jupyter :(\n",
    "std::cout << f << \" and \" << d << std::endl;\n",
    "std::cout.precision(17);\n",
    "std::cout << f << \" and \" << d << std::endl;"
   ]
  },
  {
   "cell_type": "code",
   "execution_count": null,
   "metadata": {
    "slideshow": {
     "slide_type": "subslide"
    }
   },
   "outputs": [],
   "source": [
    "// bool\n"
   ]
  },
  {
   "cell_type": "code",
   "execution_count": 2,
   "metadata": {
    "slideshow": {
     "slide_type": "subslide"
    }
   },
   "outputs": [
    {
     "data": {
      "text/plain": [
       "'h'"
      ]
     },
     "execution_count": 2,
     "metadata": {},
     "output_type": "execute_result"
    }
   ],
   "source": [
    "// char\n",
    "char letter = 'h';\n",
    "letter"
   ]
  },
  {
   "cell_type": "code",
   "execution_count": 9,
   "metadata": {
    "slideshow": {
     "slide_type": "fragment"
    }
   },
   "outputs": [
    {
     "name": "stderr",
     "output_type": "stream",
     "text": [
      "\u001b[1minput_line_23:2:7: \u001b[0m\u001b[0;1;31merror: \u001b[0m\u001b[1mredefinition of 'word'\u001b[0m\n",
      " char word[] = \"hello\";\n",
      "\u001b[0;1;32m      ^\n",
      "\u001b[0m\u001b[1minput_line_13:2:7: \u001b[0m\u001b[0;1;30mnote: \u001b[0mprevious definition is here\u001b[0m\n",
      " char word[] = \"hello\";\n",
      "\u001b[0;1;32m      ^\n",
      "\u001b[0m"
     ]
    },
    {
     "ename": "Interpreter Error",
     "evalue": "",
     "output_type": "error",
     "traceback": [
      "Interpreter Error: "
     ]
    }
   ],
   "source": [
    "char word[] = \"hello\";\n",
    "word"
   ]
  },
  {
   "cell_type": "code",
   "execution_count": 12,
   "metadata": {
    "slideshow": {
     "slide_type": "fragment"
    }
   },
   "outputs": [],
   "source": [
    "#include <string> // easier than char arrays!"
   ]
  },
  {
   "cell_type": "markdown",
   "metadata": {
    "slideshow": {
     "slide_type": "slide"
    }
   },
   "source": [
    "## Operators\n",
    "\n",
    "The normal arithmetic operations include:\n",
    "\n",
    "```c++\n",
    "x+y // plus\n",
    "+x  // unary plus\n",
    "x*y // multiply\n",
    "x/y // divide\n",
    "x%y // remainder (for integers)\n",
    "```"
   ]
  },
  {
   "cell_type": "code",
   "execution_count": null,
   "metadata": {
    "slideshow": {
     "slide_type": "fragment"
    }
   },
   "outputs": [],
   "source": []
  },
  {
   "cell_type": "markdown",
   "metadata": {
    "slideshow": {
     "slide_type": "subslide"
    }
   },
   "source": [
    "Comparison operators include:\n",
    "\n",
    "```c++\n",
    "x==y // equality\n",
    "x!=y // not equal\n",
    "x>y  // greater than\n",
    "x>=y // greater than or equal\n",
    "```"
   ]
  },
  {
   "cell_type": "markdown",
   "metadata": {
    "slideshow": {
     "slide_type": "subslide"
    }
   },
   "source": [
    "Logical operators include:\n",
    "\n",
    "```c++\n",
    "x&y  // bitwise and\n",
    "x|y  // bitwise or\n",
    "x^y  // bitwise exclusive or\n",
    "x&&y // logical and\n",
    "x||y // logical or\n",
    "```"
   ]
  },
  {
   "cell_type": "code",
   "execution_count": 16,
   "metadata": {
    "slideshow": {
     "slide_type": "fragment"
    }
   },
   "outputs": [
    {
     "data": {
      "text/plain": [
       "1"
      ]
     },
     "execution_count": 16,
     "metadata": {},
     "output_type": "execute_result"
    }
   ],
   "source": []
  },
  {
   "cell_type": "markdown",
   "metadata": {
    "slideshow": {
     "slide_type": "slide"
    }
   },
   "source": [
    "## Conditionals\n",
    "\n",
    "```c++\n",
    "if (condition)\n",
    "{\n",
    "   // one or more statements   \n",
    "}\n",
    "else if (condition)\n",
    "{\n",
    "   // one or more statements     \n",
    "}\n",
    "else\n",
    "{\n",
    "   // one or more statements     \n",
    "}\n",
    "```"
   ]
  },
  {
   "cell_type": "code",
   "execution_count": 17,
   "metadata": {
    "slideshow": {
     "slide_type": "subslide"
    }
   },
   "outputs": [],
   "source": [
    "int x;         // write a quick program to \n",
    "bool is_even;  // decide whether x is even"
   ]
  },
  {
   "cell_type": "code",
   "execution_count": 43,
   "metadata": {
    "slideshow": {
     "slide_type": "fragment"
    }
   },
   "outputs": [
    {
     "data": {
      "text/plain": [
       "2"
      ]
     },
     "execution_count": 43,
     "metadata": {},
     "output_type": "execute_result"
    }
   ],
   "source": [
    "x = 2;\n",
    "// your program here.  make sure to set is_even."
   ]
  },
  {
   "cell_type": "markdown",
   "metadata": {
    "slideshow": {
     "slide_type": "slide"
    }
   },
   "source": [
    "## Simple Loops\n",
    "\n",
    "```c++\n",
    "while (condition)\n",
    "{\n",
    "    // do something.  \n",
    "    if (some other condition) break;   \n",
    "}\n",
    "```"
   ]
  },
  {
   "cell_type": "code",
   "execution_count": 46,
   "metadata": {
    "slideshow": {
     "slide_type": "fragment"
    }
   },
   "outputs": [
    {
     "name": "stderr",
     "output_type": "stream",
     "text": [
      "\u001b[1minput_line_71:3:5: \u001b[0m\u001b[0;1;31merror: \u001b[0m\u001b[1mredefinition of 'n'\u001b[0m\n",
      "int n;\n",
      "\u001b[0;1;32m    ^\n",
      "\u001b[0m\u001b[1minput_line_69:3:5: \u001b[0m\u001b[0;1;30mnote: \u001b[0mprevious definition is here\u001b[0m\n",
      "int n;\n",
      "\u001b[0;1;32m    ^\n",
      "\u001b[0m"
     ]
    },
    {
     "ename": "Interpreter Error",
     "evalue": "",
     "output_type": "error",
     "traceback": [
      "Interpreter Error: "
     ]
    }
   ],
   "source": [
    "// use a while loop to add the integers 1 through n, and name the result sum.\n",
    "int n;"
   ]
  },
  {
   "cell_type": "code",
   "execution_count": 45,
   "metadata": {
    "slideshow": {
     "slide_type": "fragment"
    }
   },
   "outputs": [],
   "source": [
    "n = 10;"
   ]
  },
  {
   "cell_type": "code",
   "execution_count": 47,
   "metadata": {
    "slideshow": {
     "slide_type": "fragment"
    }
   },
   "outputs": [],
   "source": [
    "// your code here"
   ]
  },
  {
   "cell_type": "markdown",
   "metadata": {
    "slideshow": {
     "slide_type": "subslide"
    }
   },
   "source": [
    "The same thing but with a `for` loop:"
   ]
  },
  {
   "cell_type": "code",
   "execution_count": 49,
   "metadata": {
    "slideshow": {
     "slide_type": "subslide"
    }
   },
   "outputs": [
    {
     "data": {
      "text/plain": [
       "55"
      ]
     },
     "execution_count": 49,
     "metadata": {},
     "output_type": "execute_result"
    }
   ],
   "source": [
    "sum = 0;\n",
    "for (int i = 1; i <= n; i++)\n",
    "{\n",
    "    sum = sum + i;\n",
    "}\n",
    "sum"
   ]
  },
  {
   "cell_type": "markdown",
   "metadata": {
    "slideshow": {
     "slide_type": "slide"
    }
   },
   "source": [
    "## A First Program\n",
    "\n",
    "Copy and paste the following lines of code into a file named `hello_world.cc`:\n",
    "\n",
    "```c++\n",
    "#include <iostream>\n",
    "\n",
    "int main(int argc, char* argv[])\n",
    "{\n",
    "  std::cout << \"Hello, world!\" << std::endl;\n",
    "  return 0;\n",
    "}\n",
    "```"
   ]
  },
  {
   "cell_type": "markdown",
   "metadata": {
    "slideshow": {
     "slide_type": "fragment"
    }
   },
   "source": [
    "Go to the command line and execute:\n",
    "\n",
    "```bash\n",
    "g++ -o hello_world hello_world.cc\n",
    "```"
   ]
  }
 ],
 "metadata": {
  "celltoolbar": "Slideshow",
  "kernelspec": {
   "display_name": "C++17",
   "language": "C++17",
   "name": "xcpp17"
  },
  "language_info": {
   "codemirror_mode": "text/x-c++src",
   "file_extension": ".cpp",
   "mimetype": "text/x-c++src",
   "name": "c++",
   "version": "-std=c++17"
  },
  "livereveal": {
   "scroll": true
  }
 },
 "nbformat": 4,
 "nbformat_minor": 2
}

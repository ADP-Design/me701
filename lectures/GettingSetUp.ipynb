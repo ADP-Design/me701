{
 "cells": [
  {
   "cell_type": "markdown",
   "metadata": {
    "slideshow": {
     "slide_type": "slide"
    }
   },
   "source": [
    "# Getting Set Up\n",
    "\n",
    "By the end of this lecture, you should have a working installation of [Linux Mint](https://linuxmint.com/) or the tools to do so.  Along the way, we'll do introductions and go over any questions you may have about the course policies, content, etc."
   ]
  },
  {
   "cell_type": "markdown",
   "metadata": {
    "slideshow": {
     "slide_type": "subslide"
    }
   },
   "source": [
    "## Required Preparation\n",
    "\n",
    "- Read the syllabus carefully.\n",
    "- Download [VirtualBox 6](https://www.virtualbox.org/wiki/Downloads) for your operating system and install it.\n",
    "- If your computer is a laptop, bring it!  We code in class together.\n",
    "  "
   ]
  },
  {
   "cell_type": "markdown",
   "metadata": {
    "slideshow": {
     "slide_type": "subslide"
    }
   },
   "source": [
    "## Green Light, Red Light\n",
    "\n",
    "Display the <font color=DarkBlue>\"**green**\"</font> card if things are good and/or you are finished with a task.\n",
    "\n",
    "Display the <font color=DarkGoldenRod>\"**red**\"</font> card if things are not so good and/or you are not finished with a task.\n",
    "\n",
    "(Please keep these with you!)"
   ]
  },
  {
   "cell_type": "markdown",
   "metadata": {
    "slideshow": {
     "slide_type": "subslide"
    }
   },
   "source": [
    "## Getting the \"Appliance\"\n",
    "\n",
    "To expedite installation of Linux Mint, do the following:\n",
    "\n",
    " - Copy `me701.ova` from one of the USB thumb drives to your machine.\n",
    " - Open VirtualBox.\n",
    " - Click `File | Import Appliance`\n",
    " - Locate the `me701.ova` file.\n",
    " - Click `Next`.\n",
    " - Review the Appliance settings.\n",
    " - Click `Import`."
   ]
  },
  {
   "cell_type": "markdown",
   "metadata": {
    "slideshow": {
     "slide_type": "subslide"
    }
   },
   "source": [
    "## Changing the Username\n",
    "\n"
   ]
  },
  {
   "cell_type": "markdown",
   "metadata": {
    "slideshow": {
     "slide_type": "slide"
    }
   },
   "source": [
    "## Course Overview\n",
    "\n",
    "Topics can be coarsely grouped as:\n",
    "\n",
    "  - Basic Linux (1-5)\n",
    "  - Git (6-7)\n",
    "  - Numerical Python (8-14)\n",
    "  - Object-oriented Python (15-18)\n",
    "  - PyQt for GUIs (19-21)\n",
    "  - I/O (22-23)\n",
    "  - Visualization (24-26)\n",
    "  - Essential C++ (27-37)\n",
    "  - Parallel programming (38-41)"
   ]
  },
  {
   "cell_type": "markdown",
   "metadata": {
    "slideshow": {
     "slide_type": "subslide"
    }
   },
   "source": [
    "## Assessment (Grades)\n",
    "\n",
    " - 11 homeworks (1 drop) [50%]\n",
    " - 2 programming projects [40%]\n",
    " - Participation [10%]"
   ]
  },
  {
   "cell_type": "markdown",
   "metadata": {
    "slideshow": {
     "slide_type": "subslide"
    }
   },
   "source": [
    "## Participation\n",
    "\n",
    "Download [this file](https://raw.githubusercontent.com/me701/participation/master/participation.md)\n",
    "\n",
    "```\n",
    "# Lecture XYZ\n",
    "\n",
    "## How Did I Prepare Before Lecture?\n",
    "\n",
    "## How Did I Contribute During Lecture?\n",
    "\n",
    "## What Was or Is The Most Confusing Thing?\n",
    "```\n"
   ]
  }
 ],
 "metadata": {
  "celltoolbar": "Slideshow",
  "kernelspec": {
   "display_name": "Python 3",
   "language": "python",
   "name": "python3"
  },
  "language_info": {
   "codemirror_mode": {
    "name": "ipython",
    "version": 3
   },
   "file_extension": ".py",
   "mimetype": "text/x-python",
   "name": "python",
   "nbconvert_exporter": "python",
   "pygments_lexer": "ipython3",
   "version": "3.6.8"
  }
 },
 "nbformat": 4,
 "nbformat_minor": 2
}

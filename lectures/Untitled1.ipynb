{
 "cells": [
  {
   "cell_type": "code",
   "execution_count": 2,
   "metadata": {},
   "outputs": [
    {
     "name": "stdout",
     "output_type": "stream",
     "text": [
      "⎡      -1 ⎤\n",
      "⎢0  0  ───⎥\n",
      "⎢       L₁⎥\n",
      "⎢         ⎥\n",
      "⎢      1  ⎥\n",
      "⎢0  0  ── ⎥\n",
      "⎢      L₂ ⎥\n",
      "⎢         ⎥\n",
      "⎢1  1     ⎥\n",
      "⎢─  ─   0 ⎥\n",
      "⎣C  C     ⎦\n"
     ]
    }
   ],
   "source": [
    "from contextlib import redirect_stdout\n",
    "import numpy as np\n",
    "import matplotlib as mlp\n",
    "import sympy as sp\n",
    "from sympy import *\n",
    "init_printing(use_latex = True)\n",
    "\n",
    "sp.pprint;\n",
    "\n",
    "L1 = Symbol('L1');\n",
    "L2 = Symbol('L2');\n",
    "C = Symbol('C');\n",
    "Ts = Symbol('Ts');\n",
    "a = sp.Matrix([[0,0,-1/L1],\n",
    "               [0,0,1/L2],\n",
    "               [1/C,1/C,0]]);\n",
    "\n",
    "sp.pprint(a, use_unicode=True, );\n",
    "   \n",
    "A = sp.exp(a*Ts);"
   ]
  },
  {
   "cell_type": "code",
   "execution_count": 25,
   "metadata": {},
   "outputs": [],
   "source": [
    "alpha = symbols('alpha')\n",
    "B = A.subs(sqrt((L1-L2)/(C*L1*L2)), alpha).simplify()"
   ]
  },
  {
   "cell_type": "code",
   "execution_count": 32,
   "metadata": {},
   "outputs": [
    {
     "data": {
      "image/png": "[encoded data removed]",
      "text/latex": [
       "$$\\left[\\begin{matrix}\\frac{\\left(- L_{2} + \\left(2 L_{1} - L_{2} e^{Ts \\alpha}\\right) e^{Ts \\alpha}\\right) e^{- Ts \\alpha}}{2 \\left(L_{1} - L_{2}\\right)} & - \\frac{L_{2} \\left(\\left(e^{Ts \\alpha} - 2\\right) e^{Ts \\alpha} + 1\\right) e^{- Ts \\alpha}}{2 \\left(L_{1} - L_{2}\\right)} & - \\frac{\\sinh{\\left (Ts \\alpha \\right )}}{L_{1} \\alpha}\\\\\\frac{L_{1} \\left(\\left(e^{Ts \\alpha} - 2\\right) e^{Ts \\alpha} + 1\\right) e^{- Ts \\alpha}}{2 \\left(L_{1} - L_{2}\\right)} & \\frac{\\left(L_{1} + \\left(L_{1} e^{Ts \\alpha} - 2 L_{2}\\right) e^{Ts \\alpha}\\right) e^{- Ts \\alpha}}{2 \\left(L_{1} - L_{2}\\right)} & \\frac{\\sinh{\\left (Ts \\alpha \\right )}}{L_{2} \\alpha}\\\\\\frac{L_{1} L_{2} \\alpha \\sinh{\\left (Ts \\alpha \\right )}}{L_{1} - L_{2}} & \\frac{L_{1} L_{2} \\alpha \\sinh{\\left (Ts \\alpha \\right )}}{L_{1} - L_{2}} & \\cosh{\\left (Ts \\alpha \\right )}\\end{matrix}\\right]$$"
      ],
      "text/plain": [
       "⎡⎛      ⎛           Ts⋅α⎞  Ts⋅α⎞  -Ts⋅α       ⎛⎛ Ts⋅α    ⎞  Ts⋅α    ⎞  -Ts⋅α  \n",
       "⎢⎝-L₂ + ⎝2⋅L₁ - L₂⋅ℯ    ⎠⋅ℯ    ⎠⋅ℯ        -L₂⋅⎝⎝ℯ     - 2⎠⋅ℯ     + 1⎠⋅ℯ       \n",
       "⎢──────────────────────────────────────   ─────────────────────────────────── \n",
       "⎢             2⋅(L₁ - L₂)                             2⋅(L₁ - L₂)             \n",
       "⎢                                                                             \n",
       "⎢     ⎛⎛ Ts⋅α    ⎞  Ts⋅α    ⎞  -Ts⋅α     ⎛     ⎛    Ts⋅α       ⎞  Ts⋅α⎞  -Ts⋅α\n",
       "⎢  L₁⋅⎝⎝ℯ     - 2⎠⋅ℯ     + 1⎠⋅ℯ          ⎝L₁ + ⎝L₁⋅ℯ     - 2⋅L₂⎠⋅ℯ    ⎠⋅ℯ     \n",
       "⎢  ─────────────────────────────────     ─────────────────────────────────────\n",
       "⎢             2⋅(L₁ - L₂)                             2⋅(L₁ - L₂)             \n",
       "⎢                                                                             \n",
       "⎢          L₁⋅L₂⋅α⋅sinh(Ts⋅α)                     L₁⋅L₂⋅α⋅sinh(Ts⋅α)          \n",
       "⎢          ──────────────────                     ──────────────────          \n",
       "⎣               L₁ - L₂                                L₁ - L₂                \n",
       "\n",
       "              ⎤\n",
       "  -sinh(Ts⋅α) ⎥\n",
       "  ────────────⎥\n",
       "      L₁⋅α    ⎥\n",
       "              ⎥\n",
       "              ⎥\n",
       "   sinh(Ts⋅α) ⎥\n",
       "   ────────── ⎥\n",
       "      L₂⋅α    ⎥\n",
       "              ⎥\n",
       "              ⎥\n",
       "   cosh(Ts⋅α) ⎥\n",
       "              ⎦"
      ]
     },
     "execution_count": 32,
     "metadata": {},
     "output_type": "execute_result"
    }
   ],
   "source": [
    "B.simplify()"
   ]
  },
  {
   "cell_type": "code",
   "execution_count": null,
   "metadata": {},
   "outputs": [],
   "source": []
  },
  {
   "cell_type": "code",
   "execution_count": null,
   "metadata": {},
   "outputs": [],
   "source": []
  }
 ],
 "metadata": {
  "kernelspec": {
   "display_name": "Python 3",
   "language": "python",
   "name": "python3"
  },
  "language_info": {
   "codemirror_mode": {
    "name": "ipython",
    "version": 3
   },
   "file_extension": ".py",
   "mimetype": "text/x-python",
   "name": "python",
   "nbconvert_exporter": "python",
   "pygments_lexer": "ipython3",
   "version": "3.5.5"
  }
 },
 "nbformat": 4,
 "nbformat_minor": 2
}

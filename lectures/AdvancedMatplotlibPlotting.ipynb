{
 "cells": [
  {
   "cell_type": "markdown",
   "metadata": {
    "slideshow": {
     "slide_type": "slide"
    }
   },
   "source": [
    "# Advanced Matplotlib Plotting\n",
    "\n",
    "By the end of this tutorial, you'll know how to produce and customize a number of different graphics types using Matplotlib."
   ]
  },
  {
   "cell_type": "markdown",
   "metadata": {
    "slideshow": {
     "slide_type": "subslide"
    }
   },
   "source": [
    "## Required Preparation\n",
    "\n",
    " - Go over the [Lecture 3](https://robertsj.github.io/me400_notes/lectures/Basic_Data_Processing_with_NumPy_and_Matplotlib.html) and [Lecture 4](https://robertsj.github.io/me400_notes/lectures/More_on_NumPy_Arrays.html) notes from ME 400 on Matplotlib (and NumPy)\n",
    " - Skim the examples at the [Matplotlib Gallery](https://matplotlib.org/3.1.1/gallery/index.html)"
   ]
  },
  {
   "cell_type": "code",
   "execution_count": null,
   "metadata": {
    "slideshow": {
     "slide_type": "subslide"
    }
   },
   "outputs": [],
   "source": [
    "import matplotlib.pyplot as plt\n",
    "import numpy as np"
   ]
  },
  {
   "cell_type": "markdown",
   "metadata": {
    "slideshow": {
     "slide_type": "slide"
    }
   },
   "source": [
    "Consider this very basic but \"correct\" plot:"
   ]
  },
  {
   "cell_type": "code",
   "execution_count": null,
   "metadata": {
    "slideshow": {
     "slide_type": "fragment"
    }
   },
   "outputs": [],
   "source": [
    "x = np.linspace(0, 10)\n",
    "np.random.seed(1234)\n",
    "y = 1 + 2*x + np.random.normal(loc=0.0, scale=1.0, size=len(x))\n",
    "z = np.polyval(np.polyfit(x, y, 1), x)\n",
    "plt.figure(1)\n",
    "plt.plot(x, y, 'o', x, z)\n",
    "plt.legend(['$y$', '$z$'])\n",
    "plt.xlabel('$x$')\n",
    "plt.savefig('example1.png')"
   ]
  },
  {
   "cell_type": "markdown",
   "metadata": {
    "slideshow": {
     "slide_type": "fragment"
    }
   },
   "source": [
    "Is there anything wrong with this image?"
   ]
  },
  {
   "cell_type": "markdown",
   "metadata": {
    "slideshow": {
     "slide_type": "slide"
    }
   },
   "source": [
    "## Customizing Plots\n",
    "\n",
    "With  `matplotlib.rcParams`, we can customize many aspects of plots:\n",
    "    "
   ]
  },
  {
   "cell_type": "code",
   "execution_count": null,
   "metadata": {
    "slideshow": {
     "slide_type": "fragment"
    }
   },
   "outputs": [],
   "source": [
    "def init_nice_plots() :\n",
    "    from matplotlib import rcParams\n",
    "    rcParams['font.family'] = 'serif'\n",
    "    rcParams['font.serif'] = ['Times']\n",
    "    rcParams['xtick.direction'] = 'out'\n",
    "    rcParams['ytick.direction'] = 'out'\n",
    "    rcParams['xtick.labelsize'] = 18\n",
    "    rcParams['ytick.labelsize'] = 18\n",
    "    rcParams['ytick.left'] = True\n",
    "    rcParams['ytick.right'] = True\n",
    "    rcParams['ytick.left'] = True\n",
    "    rcParams['ytick.right'] = True        \n",
    "    rcParams['lines.linewidth'] = 1\n",
    "    rcParams['axes.labelsize']  = 20\n",
    "    #rcParams['axes.facecolor']  = 'white'\n",
    "    rcParams['legend.fontsize'] = 16\n",
    "    rcParams['figure.autolayout'] = True\n",
    "    rcParams['text.usetex'] = True"
   ]
  },
  {
   "cell_type": "code",
   "execution_count": null,
   "metadata": {
    "slideshow": {
     "slide_type": "subslide"
    }
   },
   "outputs": [],
   "source": [
    "init_nice_plots()\n",
    "plt.figure(2)\n",
    "plt.plot(x, y, 'o', x, z)\n",
    "plt.legend(['$y$', '$z$'])\n",
    "plt.xlabel('$x$')\n",
    "plt.savefig('example2.png')"
   ]
  },
  {
   "cell_type": "code",
   "execution_count": null,
   "metadata": {
    "slideshow": {
     "slide_type": "subslide"
    }
   },
   "outputs": [],
   "source": [
    "plt.figure(3)\n",
    "plt.plot(x, y, 'o', x, z)\n",
    "plt.legend(['$y$', '$z$'])\n",
    "plt.xlabel('$x$')\n",
    "plt.savefig('example3.pdf')"
   ]
  },
  {
   "cell_type": "markdown",
   "metadata": {
    "slideshow": {
     "slide_type": "slide"
    }
   },
   "source": [
    "## Displaying Errors\n",
    "\n",
    "One approach: error bars, or"
   ]
  },
  {
   "cell_type": "code",
   "execution_count": null,
   "metadata": {
    "slideshow": {
     "slide_type": "subslide"
    }
   },
   "outputs": [],
   "source": [
    "import scipy.stats\n",
    "pe = scipy.stats.t.ppf(0.95, len(x)-2)*\\\n",
    "     np.sqrt(sum((y - z)**2)/len(y))\n",
    "\n",
    "plt.figure(4)\n",
    "plt.plot(x, y, 'o')\n",
    "plt.errorbar(x, z, yerr=pe)"
   ]
  },
  {
   "cell_type": "markdown",
   "metadata": {
    "slideshow": {
     "slide_type": "subslide"
    }
   },
   "source": [
    "An alternative: bands, or"
   ]
  },
  {
   "cell_type": "code",
   "execution_count": null,
   "metadata": {
    "slideshow": {
     "slide_type": "subslide"
    }
   },
   "outputs": [],
   "source": [
    "import scipy.stats\n",
    "z_low = z-pe\n",
    "z_high = z+pe\n",
    "plt.figure(5)\n",
    "plt.plot(x, y, 'o')\n",
    "plt.plot(x, z, '--')\n",
    "plt.plot(x, z_low, 'r')\n",
    "plt.plot(x, z_high, 'r')\n",
    "# can we shade the region between the solid lines?"
   ]
  },
  {
   "cell_type": "markdown",
   "metadata": {
    "slideshow": {
     "slide_type": "slide"
    }
   },
   "source": [
    "## Visualizing 2-D Data"
   ]
  },
  {
   "cell_type": "code",
   "execution_count": null,
   "metadata": {
    "slideshow": {
     "slide_type": "fragment"
    }
   },
   "outputs": [],
   "source": [
    "n = 100\n",
    "x = np.linspace(0, 1, n)\n",
    "y = np.linspace(0, 1,n)\n",
    "xx, yy = np.meshgrid(x, y)\n",
    "f = np.sin(xx*yy)\n",
    "\n",
    "# compute gradient, but on small grid\n",
    "n = 12\n",
    "x = np.linspace(0, 1, n)\n",
    "y = np.linspace(0, 1, n)\n",
    "xxx, yyy = np.meshgrid(x, y)\n",
    "dfdx = yyy*np.cos(xxx*yyy)\n",
    "dfdy = xxx*np.cos(xxx*yyy)"
   ]
  },
  {
   "cell_type": "code",
   "execution_count": null,
   "metadata": {
    "slideshow": {
     "slide_type": "subslide"
    }
   },
   "outputs": [],
   "source": [
    "# plot both\n",
    "plt.figure(6)\n",
    "plt.contourf(xx, yy, f, cmap='jet')\n",
    "plt.quiver(xxx, yyy, dfdx, dfdy, color='white')\n",
    "plt.xlabel('x')\n",
    "plt.ylabel('y')\n",
    "plt.axis([0,1,0,1])\n",
    "plt.savefig('two_d_jet.png')"
   ]
  },
  {
   "cell_type": "code",
   "execution_count": null,
   "metadata": {
    "slideshow": {
     "slide_type": "subslide"
    }
   },
   "outputs": [],
   "source": [
    "# plot both\n",
    "plt.figure(7)\n",
    "plt.contour(xx, yy, f, 10)\n",
    "plt.streamplot(xxx, yyy, dfdx, dfdy)\n",
    "plt.xlabel('x')\n",
    "plt.ylabel('y')\n",
    "plt.axis([0,1,0,1])"
   ]
  },
  {
   "cell_type": "markdown",
   "metadata": {
    "slideshow": {
     "slide_type": "subslide"
    }
   },
   "source": [
    "**A challenge!**  Consider the following contour plot (from D.S. McGregor et al. NIM A 343 (1994)):\n",
    "\n",
    "<img src=\"mcgregor.png\" alt=\"drawing\" width=\"400\"/>\n"
   ]
  },
  {
   "cell_type": "code",
   "execution_count": null,
   "metadata": {
    "slideshow": {
     "slide_type": "subslide"
    }
   },
   "outputs": [],
   "source": [
    "def Q(rho_e, rho_h) :\n",
    "    return rho_e + rho_e**2*(np.exp(-1.0/rho_e)-1.0) + \\\n",
    "           rho_h + rho_h**2*(np.exp(-1.0/rho_h)-1.0)\n",
    "    \n",
    "def sig_Q(rho_e, rho_h) :\n",
    "    a = rho_e**2 + 2.*rho_e**3*(np.exp(-1.0/rho_e)-1) + \\\n",
    "        0.5*rho_e**3*(1-np.exp(-2.0/rho_e))\n",
    "    b = rho_h**2 + 2.*rho_h**3*(np.exp(-1.0/rho_h)-1) + \\\n",
    "        0.5*rho_h**3*(1-np.exp(-2.0/rho_h))\n",
    "    c = 2.*rho_e*rho_h + 2.*rho_e**2*rho_h*(np.exp(-1.0/rho_e)-1) + \\\n",
    "        2.*rho_h**2*rho_e*(np.exp(-1.0/rho_h)-1)\n",
    "    d = 2.*(rho_e*rho_h)**2/(rho_e-rho_h)*(np.exp(-1.0/rho_e)-np.exp(-1.0/rho_h))\n",
    "    return np.sqrt( a+b+c+d-Q(rho_e,rho_h)**2)\n",
    "   \n",
    "def R(rho_e, rho_h) :\n",
    "    return 100*sig_Q(rho_e, rho_h)/Q(rho_e, rho_h)"
   ]
  },
  {
   "cell_type": "code",
   "execution_count": null,
   "metadata": {
    "slideshow": {
     "slide_type": "subslide"
    }
   },
   "outputs": [],
   "source": [
    "n = 100\n",
    "H = np.logspace(-2, 2, n)\n",
    "E = np.logspace(-2, 2, n) \n",
    "\n",
    "H, E = np.meshgrid(H, E, sparse=False, indexing='ij')\n",
    "res = R(E, H)\n",
    "\n",
    "plt.figure(1, figsize=(6,6))\n",
    "plt.contour(np.log10(E), np.log10(H), res, colors='k')\n",
    "plt.axis('equal')\n"
   ]
  },
  {
   "cell_type": "markdown",
   "metadata": {
    "slideshow": {
     "slide_type": "subslide"
    }
   },
   "source": [
    "Things that need fixin':\n",
    "\n",
    "   - *appropriate axis labels* (e.g., `Electron Extraction Factor')\n",
    "   - correct contour levels (i.e., 0.1, 0.2, 0.5, 1%, and so on).\n",
    "     Hint: look up the documentation for `plt.contour`.\n",
    "   - *correct $x$  and $y$ tick values* (e.g., -1 should be 0.1 and 2\n",
    "       should be 100). Hint: look up, e.g.,`plt.xticks`.\n",
    "   - *annotations for each contour line*. Hint: look up \n",
    "       `plt.text`, paying specific attention to `fontsize`,\n",
    "      `horizontalalignment`, and `verticalalignment`. \n",
    "       You might also which to consider using `scipy.optimize.newton`\n",
    "       to help you automatically find where text should be located,\n",
    "       e.g., you know that the upper-left 40\\% box should be located where \n",
    "       $F(x) = 100 - R(\\rho_e, 100) = 0$.  However, you may simply\n",
    "       place each text annotation manually.\n",
    "   - *logarithmic minor tick marks*.   Note the \n",
    "       original has minor tick marks spaced logarithmically, whereas\n",
    "       my solution has no minor tick marks.  Hint: look \n",
    "       up `plt.gca().yaxis`."
   ]
  }
 ],
 "metadata": {
  "celltoolbar": "Slideshow",
  "kernelspec": {
   "display_name": "Python 3",
   "language": "python",
   "name": "python3"
  },
  "language_info": {
   "codemirror_mode": {
    "name": "ipython",
    "version": 3
   },
   "file_extension": ".py",
   "mimetype": "text/x-python",
   "name": "python",
   "nbconvert_exporter": "python",
   "pygments_lexer": "ipython3",
   "version": "3.7.3"
  },
  "livereveal": {
   "scroll": true
  }
 },
 "nbformat": 4,
 "nbformat_minor": 2
}

{
 "cells": [
  {
   "cell_type": "markdown",
   "metadata": {
    "slideshow": {
     "slide_type": "slide"
    }
   },
   "source": [
    "# A Crash Course in Git and GitHub\n",
    "\n",
    "In this lesson, the basics of `git` will be explored by example."
   ]
  },
  {
   "cell_type": "markdown",
   "metadata": {
    "slideshow": {
     "slide_type": "slide"
    }
   },
   "source": [
    "## Motivations\n",
    "\n",
    "We've all been there:\n",
    "\n",
    "```bash\n",
    "robertsj@sampo ~/tmp/cluttered_mess $ ls\n",
    "FinalReport2_AE.docx  FinalReport2.docx  FinalReport.docx  FinalReportFinal3.docx  FinalReport_JR.docx\n",
    "```\n",
    "\n",
    "I call this \"cave-person version control.\"  It's better than overwriting the same file, but it's a heck of a pain to use for tracking changes, undoing changes, and collaborating."
   ]
  },
  {
   "cell_type": "markdown",
   "metadata": {},
   "source": [
    "## Version Control\n",
    "\n",
    "For text-based projects, version control is easy based on file *differences*. "
   ]
  },
  {
   "cell_type": "markdown",
   "metadata": {
    "slideshow": {
     "slide_type": "slide"
    }
   },
   "source": [
    "## Working With Your Pull-Request Partners\n",
    "\n",
    "Suppose your username on GitHub is `yoda`.  Suppose you are to make a pull request to `luke`.  Suppose `rey` is to make a pull request to you.\n",
    "\n",
    "You have this repository initialized on GitHub:\n",
    "\n",
    "```\n",
    "https://github.com/corps-g/homework-2-yoda\n",
    "```\n",
    "\n",
    "You friend `luke` has this one, which you should *fork*:\n",
    "\n",
    "```\n",
    "https://github.com/corps-g/homework-2-luke\n",
    "```\n",
    "\n",
    "Once you fork it, you'll have this one:\n",
    "\n",
    "```\n",
    "https://github.com/yoda/homework-2-luke\n",
    "```\n",
    "\n",
    "Clone this via \n",
    "\n",
    "```bash\n",
    "git clone https://github.com/yoda/homework-2-luke.git\n",
    "```\n",
    "\n",
    "Make a new branch called `dev`:\n",
    "\n",
    "```bash\n",
    "cd homework-2-luke-git\n",
    "git checkout -b dev\n",
    "```\n",
    "\n",
    "Make a change, e.g., adding a new file, modifying an existing one, etc.  Make your commits and then push:\n",
    "\n",
    "```\n",
    "git push origin dev\n",
    "```\n",
    "\n",
    "What's origin?  That's your default remote.  List all via:\n",
    "\n",
    "```\n",
    "git remote -v\n",
    "```\n",
    "\n",
    "Make a PR into `corps-g/homework-2-luke` by navigating GitHub as shown in class."
   ]
  },
  {
   "cell_type": "markdown",
   "metadata": {
    "slideshow": {
     "slide_type": "slide"
    }
   },
   "source": [
    "## Syncing Remotes\n",
    "\n",
    "Alas, forks are not automatically updated.  For example, suppose `luke` made some changes to `corps-g/homework-2-luke` in the `master` branch.  These changes will not show up in `yoda/homework-2-luke`.  You need to get those changes yourself.\n",
    "\n",
    "```\n",
    "git remote add luke https://github.com/corps-g/homework-2-luke\n",
    "```\n",
    "\n",
    "This adds a new remote called `luke` that, like `origin`, represents a repository located somewhere else (the internet, a separate `git` repo on your machine or cluster, etc.).\n",
    "\n",
    "Download any changes `luke` made by executing\n",
    "\n",
    "```\n",
    "git fetch luke\n",
    "```\n",
    "\n",
    "Merge changes in `luke/master` into your current branch by executing\n",
    "\n",
    "```\n",
    "git merge luke/master\n",
    "```\n",
    "\n",
    "Now, your current branch is up-to-date with whatever `luke` has on GitHub."
   ]
  },
  {
   "cell_type": "code",
   "execution_count": null,
   "metadata": {},
   "outputs": [],
   "source": []
  }
 ],
 "metadata": {
  "celltoolbar": "Slideshow",
  "kernelspec": {
   "display_name": "Bash",
   "language": "bash",
   "name": "bash"
  },
  "language_info": {
   "codemirror_mode": "shell",
   "file_extension": ".sh",
   "mimetype": "text/x-sh",
   "name": "bash"
  },
  "livereveal": {
   "scroll": true
  }
 },
 "nbformat": 4,
 "nbformat_minor": 2
}

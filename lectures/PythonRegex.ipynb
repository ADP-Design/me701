{
 "cells": [
  {
   "cell_type": "markdown",
   "metadata": {
    "slideshow": {
     "slide_type": "slide"
    }
   },
   "source": [
    "# Python Regex\n",
    "\n",
    "Objectives:\n",
    "  - parse strings using `str` functions\n",
    "  - match patterns using `re` module\n",
    "\n",
    "Resources:\n",
    "  - https://docs.python.org/3/library/re.html\n",
    "  - ECiP, Chapter 8"
   ]
  },
  {
   "cell_type": "markdown",
   "metadata": {
    "slideshow": {
     "slide_type": "slide"
    }
   },
   "source": [
    "## `str` magic\n",
    "\n",
    "Useful tools:\n",
    "\n",
    "  - `in`\n",
    "  - `str.split`\n",
    "  - `str.find`\n",
    "  - `str.count`\n",
    "  - `str.replace`"
   ]
  },
  {
   "cell_type": "code",
   "execution_count": 6,
   "metadata": {
    "slideshow": {
     "slide_type": "subslide"
    }
   },
   "outputs": [
    {
     "data": {
      "text/plain": [
       "['1', '2', '3', '4', '5', '6', '7', '8', '9']"
      ]
     },
     "execution_count": 6,
     "metadata": {},
     "output_type": "execute_result"
    }
   ],
   "source": [
    "s = '1      2 3 4 5\\n 6 7 8 9'\n",
    "s.split()  "
   ]
  },
  {
   "cell_type": "code",
   "execution_count": 19,
   "metadata": {
    "slideshow": {
     "slide_type": "subslide"
    }
   },
   "outputs": [],
   "source": [
    "s = '1,2,3,4,5'\n",
    "import numpy as np\n",
    "nums = map(int, s.split(','))\n"
   ]
  },
  {
   "cell_type": "code",
   "execution_count": 22,
   "metadata": {
    "slideshow": {
     "slide_type": "subslide"
    }
   },
   "outputs": [
    {
     "data": {
      "text/plain": [
       "3"
      ]
     },
     "execution_count": 22,
     "metadata": {},
     "output_type": "execute_result"
    }
   ],
   "source": [
    "s = 'hayneedlestack'\n",
    "s.find('needle') \n"
   ]
  },
  {
   "cell_type": "code",
   "execution_count": null,
   "metadata": {
    "slideshow": {
     "slide_type": "subslide"
    }
   },
   "outputs": [],
   "source": [
    "s[3:(3+len('needle'))]"
   ]
  },
  {
   "cell_type": "code",
   "execution_count": 31,
   "metadata": {
    "slideshow": {
     "slide_type": "subslide"
    }
   },
   "outputs": [
    {
     "data": {
      "text/plain": [
       "{'a', 'c', 'd', 'e', 'h', 'k', 'l', 'n', 's', 't', 'y'}"
      ]
     },
     "execution_count": 31,
     "metadata": {},
     "output_type": "execute_result"
    }
   ],
   "source": [
    "set(s)  "
   ]
  },
  {
   "cell_type": "code",
   "execution_count": 27,
   "metadata": {
    "slideshow": {
     "slide_type": "subslide"
    }
   },
   "outputs": [
    {
     "data": {
      "text/plain": [
       "'hayn  dl stack'"
      ]
     },
     "execution_count": 27,
     "metadata": {},
     "output_type": "execute_result"
    }
   ],
   "source": [
    "ss = s.replace('e', ' ')\n",
    "ss"
   ]
  },
  {
   "cell_type": "markdown",
   "metadata": {
    "slideshow": {
     "slide_type": "subslide"
    }
   },
   "source": [
    "**Exercise**: Process the file `pwr.log` and store `kinf` as a function of `burnup`.  Note, this is a pretty simple file, but it's just special enough to make `np.loadtxt` not the answer. "
   ]
  },
  {
   "cell_type": "markdown",
   "metadata": {
    "slideshow": {
     "slide_type": "slide"
    }
   },
   "source": [
    "## regex\n",
    "\n",
    "A REGular EXpression is a *pattern* that defines a set of strings that matches it. "
   ]
  },
  {
   "cell_type": "code",
   "execution_count": 32,
   "metadata": {
    "slideshow": {
     "slide_type": "fragment"
    }
   },
   "outputs": [],
   "source": [
    "import re"
   ]
  },
  {
   "cell_type": "code",
   "execution_count": 33,
   "metadata": {
    "slideshow": {
     "slide_type": "fragment"
    }
   },
   "outputs": [],
   "source": [
    "p = '123' # the pattern"
   ]
  },
  {
   "cell_type": "code",
   "execution_count": 34,
   "metadata": {
    "slideshow": {
     "slide_type": "fragment"
    }
   },
   "outputs": [],
   "source": [
    "s = '123 abc' # the string that matches (or not)"
   ]
  },
  {
   "cell_type": "code",
   "execution_count": 37,
   "metadata": {
    "slideshow": {
     "slide_type": "fragment"
    }
   },
   "outputs": [
    {
     "data": {
      "text/plain": [
       "<_sre.SRE_Match object; span=(0, 3), match='123'>"
      ]
     },
     "execution_count": 37,
     "metadata": {},
     "output_type": "execute_result"
    }
   ],
   "source": [
    "re.match(p, s)"
   ]
  },
  {
   "cell_type": "code",
   "execution_count": 38,
   "metadata": {
    "slideshow": {
     "slide_type": "subslide"
    }
   },
   "outputs": [],
   "source": [
    "p = 'abc'"
   ]
  },
  {
   "cell_type": "code",
   "execution_count": 39,
   "metadata": {
    "slideshow": {
     "slide_type": "fragment"
    }
   },
   "outputs": [],
   "source": [
    "re.match(p, s)"
   ]
  },
  {
   "cell_type": "code",
   "execution_count": 40,
   "metadata": {
    "slideshow": {
     "slide_type": "fragment"
    }
   },
   "outputs": [
    {
     "data": {
      "text/plain": [
       "<_sre.SRE_Match object; span=(4, 7), match='abc'>"
      ]
     },
     "execution_count": 40,
     "metadata": {},
     "output_type": "execute_result"
    }
   ],
   "source": [
    "re.search(p, s)"
   ]
  },
  {
   "cell_type": "markdown",
   "metadata": {
    "slideshow": {
     "slide_type": "subslide"
    }
   },
   "source": [
    "### Basic Special Characters\n",
    "\n",
    "  - `.`  any character\n",
    "  - `^` beginning of line\n",
    "  - `$` end of line\n",
    "  - `*` 0 or more\n",
    "  - `+` 1 or more\n",
    "  - `?` 0 or 1\n",
    "  - `[]` e.g., `[abc]` matches `a`, `b`, or `c` individually"
   ]
  },
  {
   "cell_type": "code",
   "execution_count": 6,
   "metadata": {
    "slideshow": {
     "slide_type": "fragment"
    }
   },
   "outputs": [],
   "source": [
    "import re\n",
    "s = \"abcabcabc123abc456abc\"\n",
    "p = \"[abc]+?\""
   ]
  },
  {
   "cell_type": "code",
   "execution_count": 7,
   "metadata": {},
   "outputs": [
    {
     "name": "stdout",
     "output_type": "stream",
     "text": [
      "<_sre.SRE_Match object; span=(0, 1), match='a'>\n",
      "<_sre.SRE_Match object; span=(1, 2), match='b'>\n",
      "<_sre.SRE_Match object; span=(2, 3), match='c'>\n",
      "<_sre.SRE_Match object; span=(3, 4), match='a'>\n",
      "<_sre.SRE_Match object; span=(4, 5), match='b'>\n",
      "<_sre.SRE_Match object; span=(5, 6), match='c'>\n",
      "<_sre.SRE_Match object; span=(6, 7), match='a'>\n",
      "<_sre.SRE_Match object; span=(7, 8), match='b'>\n",
      "<_sre.SRE_Match object; span=(8, 9), match='c'>\n",
      "<_sre.SRE_Match object; span=(12, 13), match='a'>\n",
      "<_sre.SRE_Match object; span=(13, 14), match='b'>\n",
      "<_sre.SRE_Match object; span=(14, 15), match='c'>\n",
      "<_sre.SRE_Match object; span=(18, 19), match='a'>\n",
      "<_sre.SRE_Match object; span=(19, 20), match='b'>\n",
      "<_sre.SRE_Match object; span=(20, 21), match='c'>\n"
     ]
    }
   ],
   "source": [
    "for match in re.finditer(p, s):\n",
    "    print(match)"
   ]
  },
  {
   "cell_type": "markdown",
   "metadata": {
    "slideshow": {
     "slide_type": "subslide"
    }
   },
   "source": [
    "### The Special `\\` Sequences\n",
    "\n",
    "  - `\\d` any decimal digit\n",
    "  - `\\D` any character that is *not* `\\d`\n",
    "  - `\\s` any whitespace character (`[ \\t\\n\\r\\f\\v]`)\n",
    "  - `\\S` any character that is *not* `\\s`"
   ]
  },
  {
   "cell_type": "code",
   "execution_count": 1,
   "metadata": {
    "slideshow": {
     "slide_type": "fragment"
    }
   },
   "outputs": [],
   "source": [
    "p = '[0-9]' "
   ]
  },
  {
   "cell_type": "markdown",
   "metadata": {
    "slideshow": {
     "slide_type": "subslide"
    }
   },
   "source": [
    "### Special Operations\n",
    "\n",
    "  - `?` following `*` or `+` or `?` makes it *non-greedy*\n",
    "  - `{m}` requires `m` repeats\n",
    "  - `{m, n}` requires `m`, `m+1`, ..., or `n` repeats\n",
    "  - `\\` is the escape (except for the special sequences)\n",
    "  - `|` \"or\" between arbitrary patterns\n",
    "  - `(...)` group\n",
    "  - `(?:...)` non-matching group\n",
    "  - `(?P<name>...)` named group"
   ]
  },
  {
   "cell_type": "code",
   "execution_count": 19,
   "metadata": {
    "slideshow": {
     "slide_type": "fragment"
    }
   },
   "outputs": [
    {
     "data": {
      "text/plain": [
       "('abc',)"
      ]
     },
     "execution_count": 19,
     "metadata": {},
     "output_type": "execute_result"
    }
   ],
   "source": [
    "result1 = re.search(\"(abc)\\d\", s)\n",
    "result2 = re.search(\"(?:abc)\\d\", s)\n",
    "result3 = re.search(\"(?P<foo>abc)\\d\", s)\n",
    "result3.groups('foo')"
   ]
  },
  {
   "cell_type": "code",
   "execution_count": 77,
   "metadata": {
    "slideshow": {
     "slide_type": "subslide"
    }
   },
   "outputs": [
    {
     "name": "stdout",
     "output_type": "stream",
     "text": [
      "\n",
      "    varA         varB        varC\n",
      "    0.0000E+00   0.00000E+00 0.0000\n",
      "    3.0000E-01   7.00000E-04 0.3778\n",
      "    2.0000E+02   9.99300E-01 0.0003\n",
      "\n"
     ]
    },
    {
     "data": {
      "text/plain": [
       "[('0.00000E+00 ', '0.00000E+00'),\n",
       " ('7.00000E-04 ', '7.00000E-04'),\n",
       " ('9.99300E-01 ', '9.99300E-01')]"
      ]
     },
     "execution_count": 77,
     "metadata": {},
     "output_type": "execute_result"
    }
   ],
   "source": [
    "s = \"\"\"\n",
    "    varA         varB        varC\n",
    "    0.0000E+00   0.00000E+00 0.0000\n",
    "    3.0000E-01   7.00000E-04 0.3778\n",
    "    2.0000E+02   9.99300E-01 0.0003\n",
    "\"\"\"\n",
    "print(s)\n",
    "#p = '(\\d\\.\\d{4,6}E[+-]\\d{2})\\s+(\\d\\.\\d{4,6}E[+-]\\d{2})\\s+(\\d\\.\\d{4,6})'\n",
    "p = '((\\d\\.\\d+E[+-]\\d{2})\\s+){2}'\n",
    "\n",
    "m = re.findall(p, s)\n",
    "m"
   ]
  },
  {
   "cell_type": "code",
   "execution_count": null,
   "metadata": {
    "slideshow": {
     "slide_type": "fragment"
    }
   },
   "outputs": [],
   "source": [
    "pattern = r'\\d.\\d\\d\\d\\dE[+-]\\d\\d'\n",
    "re.search(pattern, s)"
   ]
  },
  {
   "cell_type": "code",
   "execution_count": null,
   "metadata": {},
   "outputs": [],
   "source": [
    "re.findall(pattern, s)"
   ]
  },
  {
   "cell_type": "code",
   "execution_count": null,
   "metadata": {},
   "outputs": [],
   "source": []
  }
 ],
 "metadata": {
  "celltoolbar": "Slideshow",
  "kernelspec": {
   "display_name": "Python 3",
   "language": "python",
   "name": "python3"
  },
  "language_info": {
   "codemirror_mode": {
    "name": "ipython",
    "version": 3
   },
   "file_extension": ".py",
   "mimetype": "text/x-python",
   "name": "python",
   "nbconvert_exporter": "python",
   "pygments_lexer": "ipython3",
   "version": "3.6.5"
  }
 },
 "nbformat": 4,
 "nbformat_minor": 2
}

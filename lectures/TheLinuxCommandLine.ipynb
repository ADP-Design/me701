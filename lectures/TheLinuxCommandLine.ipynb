{
 "cells": [
  {
   "cell_type": "markdown",
   "metadata": {
    "slideshow": {
     "slide_type": "slide"
    }
   },
   "source": [
    "# The Linux Command Line\n",
    "\n",
    "By the end of this lecture, you'll understand the basic organization of the Linux file system and how to navigate it using the command line."
   ]
  },
  {
   "cell_type": "markdown",
   "metadata": {
    "slideshow": {
     "slide_type": "subslide"
    }
   },
   "source": [
    "## Required Preparation\n",
    "\n",
    "- Bring a laptop with Linux Mint ready for use.\n",
    "- Read Part 1 (pp. 1--124) of [The Linux Command Line](https://sourceforge.net/projects/linuxcommand/).  Note, the introduction is quite useful, too.\n",
    "- Start a \"cheat sheet\" of the commands that appear to be useful.  We'll fill in details on-the-fly in class. \n",
    "- You may find [The Unix Shell: Summary of Basic Commands](https://swcarpentry.github.io/shell-novice/reference/) is a useful sidekick.  Software carpentry for a win!"
   ]
  },
  {
   "cell_type": "markdown",
   "metadata": {
    "slideshow": {
     "slide_type": "slide"
    }
   },
   "source": [
    "## The Command Line\n",
    "\n",
    "The command line (as we know it) is a combination of a [terminal emulator](https://en.wikipedia.org/wiki/Terminal_emulator) and a [shell](https://en.wikipedia.org/wiki/Command-line_interface)."
   ]
  },
  {
   "cell_type": "markdown",
   "metadata": {
    "slideshow": {
     "slide_type": "subslide"
    }
   },
   "source": [
    "In the old days, instead of bountful labs, a university might have a couple of these:\n",
    "\n",
    "![alt text](https://upload.wikimedia.org/wikipedia/commons/1/1e/Univac_Unimatic_computer_terminal_at_CHM.jpg \"Logo Title Text 1\")"
   ]
  }
 ],
 "metadata": {
  "celltoolbar": "Slideshow",
  "kernelspec": {
   "display_name": "Python 3",
   "language": "python",
   "name": "python3"
  },
  "language_info": {
   "codemirror_mode": {
    "name": "ipython",
    "version": 3
   },
   "file_extension": ".py",
   "mimetype": "text/x-python",
   "name": "python",
   "nbconvert_exporter": "python",
   "pygments_lexer": "ipython3",
   "version": "3.6.5"
  },
  "livereveal": {
   "scroll": true
  }
 },
 "nbformat": 4,
 "nbformat_minor": 2
}

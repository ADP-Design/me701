{
 "cells": [
  {
   "cell_type": "markdown",
   "metadata": {
    "slideshow": {
     "slide_type": "slide"
    }
   },
   "source": [
    "# Linear Systems and Least Squares\n",
    "\n",
    "We'll look at the basic `np.linalg` utilities for setting up linear systems, overdetermined systems, and, maybe, underdetermined systems."
   ]
  },
  {
   "cell_type": "markdown",
   "metadata": {
    "slideshow": {
     "slide_type": "subslide"
    }
   },
   "source": [
    "## Required Preparation\n",
    "\n",
    "\n",
    "- Review [linear systems](http://robertsj.github.io/python_for_engineers/courses/pythonic_apps_2/modules/module_2/module_2.html) for this and the next lecture.\n",
    "- Review [least squares](http://robertsj.github.io/python_for_engineers/courses/pythonic_apps_2/modules/module_3/least_squares.html) for this lecture.  "
   ]
  },
  {
   "cell_type": "markdown",
   "metadata": {
    "slideshow": {
     "slide_type": "slide"
    }
   },
   "source": [
    "## \"Matrices\", \"Vectors\", and Related Operations"
   ]
  },
  {
   "cell_type": "code",
   "execution_count": 3,
   "metadata": {
    "slideshow": {
     "slide_type": "fragment"
    }
   },
   "outputs": [
    {
     "data": {
      "text/plain": [
       "array([1, 2, 3])"
      ]
     },
     "execution_count": 3,
     "metadata": {},
     "output_type": "execute_result"
    }
   ],
   "source": [
    "import numpy as np\n",
    "\n",
    "# use 1-D array for vector\n",
    "x = np.array([1,2,3])\n",
    "x"
   ]
  },
  {
   "cell_type": "code",
   "execution_count": 4,
   "metadata": {
    "slideshow": {
     "slide_type": "fragment"
    }
   },
   "outputs": [
    {
     "data": {
      "text/plain": [
       "array([[ 2, -1,  0],\n",
       "       [-1,  2, -1],\n",
       "       [ 0, -1,  2]])"
      ]
     },
     "execution_count": 4,
     "metadata": {},
     "output_type": "execute_result"
    }
   ],
   "source": [
    "# use 2-D array for matrix\n",
    "A = np.array([[ 2, -1,  0],\n",
    "              [-1,  2, -1],\n",
    "              [ 0, -1,  2]])\n",
    "A"
   ]
  },
  {
   "cell_type": "markdown",
   "metadata": {},
   "source": []
  },
  {
   "cell_type": "markdown",
   "metadata": {
    "slideshow": {
     "slide_type": "subslide"
    }
   },
   "source": [
    "## Basic Linear (and Eigen) Systems\n",
    "\n",
    "Many goodies in `np.linalg`."
   ]
  },
  {
   "cell_type": "code",
   "execution_count": null,
   "metadata": {},
   "outputs": [],
   "source": []
  },
  {
   "cell_type": "markdown",
   "metadata": {
    "slideshow": {
     "slide_type": "slide"
    }
   },
   "source": [
    "## What if the Matrix Is Not Square?\n",
    "\n",
    "Let $\\mathbf{A} \\in \\mathbb{R}^{m\\times n}$ (i.e., $m$ rows, $n$ columns, real numbers).  If $m\\neq n$, then $\\mathbf{Ax}=\\mathbf{y}$ generally has no solution."
   ]
  },
  {
   "cell_type": "markdown",
   "metadata": {
    "slideshow": {
     "slide_type": "fragment"
    }
   },
   "source": [
    "When $m > n$, there are *more equations than unknowns*.  The system is *overdetermined*.  One unique solution is the least-squares solution, i.e., find $\\mathbf{x}$ to minimize $||\\mathbf{Ax}-\\mathbf{y}||_2$."
   ]
  },
  {
   "cell_type": "markdown",
   "metadata": {
    "slideshow": {
     "slide_type": "fragment"
    }
   },
   "source": [
    "When $m < n$, there are *more unknowns than equation*.  The system is *underdetermined*.  Such systems arise from inverse problems and are typically harder to solve.  One unique solution is the least-norm solution, i.e., choose the one value of $\\mathbf{x}$ (of infinitely many solutions) such that $\\mathbf{x}^T\\mathbf{x}$ is minimized."
   ]
  },
  {
   "cell_type": "code",
   "execution_count": 29,
   "metadata": {
    "slideshow": {
     "slide_type": "subslide"
    }
   },
   "outputs": [],
   "source": [
    "x = np.array([0, 1, 2])       # measurement points\n",
    "M = np.array([x**0,\n",
    "              x**1]).T        # design matrix\n",
    "y = np.array([0.9, 2.1, 2.9]) # observations"
   ]
  },
  {
   "cell_type": "code",
   "execution_count": null,
   "metadata": {},
   "outputs": [],
   "source": []
  }
 ],
 "metadata": {
  "celltoolbar": "Slideshow",
  "kernelspec": {
   "display_name": "Python 3",
   "language": "python",
   "name": "python3"
  },
  "language_info": {
   "codemirror_mode": {
    "name": "ipython",
    "version": 3
   },
   "file_extension": ".py",
   "mimetype": "text/x-python",
   "name": "python",
   "nbconvert_exporter": "python",
   "pygments_lexer": "ipython3",
   "version": "3.7.3"
  },
  "livereveal": {
   "scroll": true
  }
 },
 "nbformat": 4,
 "nbformat_minor": 2
}

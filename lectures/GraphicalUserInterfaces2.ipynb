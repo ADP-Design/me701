{
 "cells": [
  {
   "cell_type": "markdown",
   "metadata": {
    "slideshow": {
     "slide_type": "slide"
    }
   },
   "source": [
    "## Graphical User Interfaces - Part 1\n",
    "\n",
    "Part two of a three-part introduction to basic GUIs using PyQt5.  In this lesson, we'll focus on slots and signals and the construction of a `MainWindow` application."
   ]
  },
  {
   "cell_type": "markdown",
   "metadata": {
    "slideshow": {
     "slide_type": "subslide"
    }
   },
   "source": [
    "## Required Preparation\n",
    "\n",
    " - Go over the [Menus and Toolbars](http://zetcode.com/gui/pyqt5/menustoolbars/) in PyQt5\n",
    " - Skim this overview of [slots and signals](https://www.riverbankcomputing.com/static/Docs/PyQt5/signals_slots.html)\n",
    " - Take a look at the main [Qt site](http://www.qt.io)."
   ]
  },
  {
   "cell_type": "markdown",
   "metadata": {
    "slideshow": {
     "slide_type": "subslide"
    }
   },
   "source": [
    "## Slots and Signals\n",
    "\n",
    "A *signal* indicates that some user action has been initiated.  Examples:\n",
    "  \n",
    "   - Return key pressed\n",
    "   - Button clicked"
   ]
  },
  {
   "cell_type": "markdown",
   "metadata": {
    "slideshow": {
     "slide_type": "fragment"
    }
   },
   "source": [
    "A *slot* is a method (likely user defined) that is called when a signal is emitted.  Slots are connected to signals."
   ]
  },
  {
   "cell_type": "markdown",
   "metadata": {
    "slideshow": {
     "slide_type": "subslide"
    }
   },
   "source": [
    "Consider the following:\n",
    "\n",
    "```python\n",
    "widget = PyQt5.QtWidgets.QLineEdit()\n",
    "def myslot(args=None):\n",
    "    print(\"hello world\", args)\n",
    "widget.returnPressed.connect(myslot)\n",
    "```"
   ]
  },
  {
   "cell_type": "markdown",
   "metadata": {
    "slideshow": {
     "slide_type": "subslide"
    }
   },
   "source": [
    "## Exercise 3\n",
    "\n",
    "  - Can we make text appear in the `QLineEdit` box?  \n",
    "  - Can it come from the command line?  \n",
    "  - Change upon return being entered?  \n",
    "  - What other signals can you use?"
   ]
  },
  {
   "cell_type": "markdown",
   "metadata": {
    "slideshow": {
     "slide_type": "slide"
    }
   },
   "source": [
    "## The `QMainWindow`\n",
    "\n",
    "```python\n",
    "class MainWindow(QMainWindow):\n",
    "    \n",
    "    def __init__(self):\n",
    "        super(MainWindow).__init__(self)\n",
    "        \n",
    "        # Define menus (e.g., File and Help)\n",
    " \n",
    "        # Define and set main widget\n",
    "        widget =  QLineEdit(\"widget 1\")  \n",
    "        self.setCentralWidget(widget)\n",
    "\n",
    "app = QApplication(sys.argv)\n",
    "widget = MainWindow()\n",
    "widget.show()\n",
    "app.exec_()\n",
    "```"
   ]
  },
  {
   "cell_type": "markdown",
   "metadata": {
    "slideshow": {
     "slide_type": "subslide"
    }
   },
   "source": [
    "## Adding a Menu Bar\n",
    "\n",
    "```python\n",
    "# Here, self is MainWindow, and these lines go in __init__\n",
    "self.menuFile = self.menuBar().addMenu(\"&File\")\n",
    "self.actionSaveAs = QAction(\"&Save As\", self)\n",
    "self.actionSaveAs.triggered.connect(self.saveas) # <-- need to define this!\n",
    "self.menuFile.addActions([self.actionSaveAs])\n",
    "```"
   ]
  },
  {
   "cell_type": "markdown",
   "metadata": {
    "slideshow": {
     "slide_type": "subslide"
    }
   },
   "source": [
    "## Exercise 1\n",
    "\n",
    "Create a function `saveas` that uses `QFileDialog.getSaveFileName(self, 'Save File')`.  What does this function do, and how can you use it?"
   ]
  },
  {
   "cell_type": "markdown",
   "metadata": {
    "slideshow": {
     "slide_type": "fragment"
    }
   },
   "source": [
    "## Exercise 2\n",
    "\n",
    "Add a second action to the file menu for quitting.  Note that `self.close` is a good slot to use for this."
   ]
  },
  {
   "cell_type": "markdown",
   "metadata": {
    "slideshow": {
     "slide_type": "subslide"
    }
   },
   "source": [
    "## Variety via Layouts\n",
    "\n",
    "Insert the following in place of the single `QLineEdit` widget used above.\n",
    "\n",
    "```python\n",
    "widget = QWidget()\n",
    "self.edit1 = QLineEdit(\"widget 1\")\n",
    "self.edit2 = QLineEdit(\"widget 2\")\n",
    "self.edit2 = QLineEdit(\"widget 3\")\n",
    "\n",
    "layout = QVBoxLayout()\n",
    "layout.addWidget(self.edit1)\n",
    "layout.addWidget(self.edit2)  \n",
    "layout.addWidget(self.edit3)  \n",
    "widget.setLayout(layout)\n",
    "```"
   ]
  },
  {
   "cell_type": "markdown",
   "metadata": {
    "slideshow": {
     "slide_type": "subslide"
    }
   },
   "source": [
    "## Exercise 3\n",
    "\n",
    "Let `edit1` have a value for `x`, `edit2` have a mathematical expression, e.g., `math.sin(x)`, and `edit3` have the output of this operation.  Use the `returnPressed` signal in `edit3` to evaluate the expression and to update the text shown with the result of that evaluation."
   ]
  }
 ],
 "metadata": {
  "celltoolbar": "Slideshow",
  "kernelspec": {
   "display_name": "Python 3",
   "language": "python",
   "name": "python3"
  },
  "language_info": {
   "codemirror_mode": {
    "name": "ipython",
    "version": 3
   },
   "file_extension": ".py",
   "mimetype": "text/x-python",
   "name": "python",
   "nbconvert_exporter": "python",
   "pygments_lexer": "ipython3",
   "version": "3.7.3"
  },
  "livereveal": {
   "scroll": true
  }
 },
 "nbformat": 4,
 "nbformat_minor": 2
}

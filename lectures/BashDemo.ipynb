{
 "cells": [
  {
   "cell_type": "markdown",
   "metadata": {
    "slideshow": {
     "slide_type": "slide"
    }
   },
   "source": [
    "# A Bit of Bash\n",
    "\n",
    "The Bourne again shell or `bash` is the shell we use in Linux.  "
   ]
  },
  {
   "cell_type": "markdown",
   "metadata": {
    "slideshow": {
     "slide_type": "slide"
    }
   },
   "source": [
    "## Variables"
   ]
  },
  {
   "cell_type": "markdown",
   "metadata": {
    "slideshow": {
     "slide_type": "fragment"
    }
   },
   "source": [
    "To define a variable, set a value to a name:"
   ]
  },
  {
   "cell_type": "code",
   "execution_count": 1,
   "metadata": {
    "slideshow": {
     "slide_type": "fragment"
    }
   },
   "outputs": [],
   "source": [
    "a=123"
   ]
  },
  {
   "cell_type": "code",
   "execution_count": 2,
   "metadata": {
    "slideshow": {
     "slide_type": "fragment"
    }
   },
   "outputs": [
    {
     "name": "stdout",
     "output_type": "stream",
     "text": [
      "123\n"
     ]
    }
   ],
   "source": [
    "echo $a # echo prints to standard out, and \"#\" starts a comment"
   ]
  },
  {
   "cell_type": "markdown",
   "metadata": {
    "slideshow": {
     "slide_type": "fragment"
    }
   },
   "source": [
    "The `$` is required to get the value of `a`.  If we didn't use it, we'd find"
   ]
  },
  {
   "cell_type": "code",
   "execution_count": 3,
   "metadata": {
    "slideshow": {
     "slide_type": "fragment"
    }
   },
   "outputs": [
    {
     "name": "stdout",
     "output_type": "stream",
     "text": [
      "a\n"
     ]
    }
   ],
   "source": [
    "echo a"
   ]
  },
  {
   "cell_type": "markdown",
   "metadata": {
    "slideshow": {
     "slide_type": "subslide"
    }
   },
   "source": [
    "Here, `a` is a (local) variable accessible only in this shell instance.  An *environment variable* is global to all shells instantiated by the present shell (called *subprocesses*)."
   ]
  },
  {
   "cell_type": "code",
   "execution_count": 4,
   "metadata": {
    "slideshow": {
     "slide_type": "fragment"
    }
   },
   "outputs": [
    {
     "name": "stdout",
     "output_type": "stream",
     "text": [
      "a is !\n"
     ]
    }
   ],
   "source": [
    "a=123\n",
    "echo 'echo \"a is $a!\" ' > tmp.sh # note ' vs \" \n",
    "bash ./tmp.sh"
   ]
  },
  {
   "cell_type": "code",
   "execution_count": 5,
   "metadata": {
    "slideshow": {
     "slide_type": "subslide"
    }
   },
   "outputs": [
    {
     "name": "stdout",
     "output_type": "stream",
     "text": [
      "a is 123!\n"
     ]
    }
   ],
   "source": [
    "export a=123 # <-- now an environment variable\n",
    "bash ./tmp.sh"
   ]
  },
  {
   "cell_type": "markdown",
   "metadata": {
    "slideshow": {
     "slide_type": "subslide"
    }
   },
   "source": [
    "We can also define variables using the output of commands:"
   ]
  },
  {
   "cell_type": "code",
   "execution_count": 7,
   "metadata": {
    "slideshow": {
     "slide_type": "fragment"
    }
   },
   "outputs": [
    {
     "name": "stdout",
     "output_type": "stream",
     "text": [
      "Bash_Demo.ipynb tmp.sh\n"
     ]
    }
   ],
   "source": [
    "a=$(ls)\n",
    "echo $a"
   ]
  },
  {
   "cell_type": "markdown",
   "metadata": {
    "slideshow": {
     "slide_type": "subslide"
    }
   },
   "source": [
    "We can also call scripts with arguments, e.g.,\n",
    "\n",
    "```bash\n",
    "bash myscript.sh 123 \"hello\" \n",
    "```\n",
    "\n",
    "If $n$ arguments are given, they are accessed as `$1`, `$2`, etc.  Get all of them with `$@`.\n",
    "\n",
    "The variable `$0` is the function name, while `$#` is the number of arguments (i.e., $n$).These same variable rules apply to *scripts* called from the command line."
   ]
  },
  {
   "cell_type": "code",
   "execution_count": 8,
   "metadata": {
    "slideshow": {
     "slide_type": "fragment"
    }
   },
   "outputs": [
    {
     "name": "stdout",
     "output_type": "stream",
     "text": [
      "Number of args is 2\n",
      "Function name is ./myscript.sh\n",
      "First argument is 123\n",
      "All arguments: 123 hello\n"
     ]
    }
   ],
   "source": [
    "# Write a little shell script using redirection\n",
    "printf 'echo \"Number of args is $#\"\n",
    "echo \"Function name is $0\"\n",
    "echo \"First argument is $1\"\n",
    "echo \"All arguments: $@\"' > myscript.sh\n",
    "# Execute it!\n",
    "bash ./myscript.sh 123 \"hello\""
   ]
  },
  {
   "cell_type": "markdown",
   "metadata": {
    "slideshow": {
     "slide_type": "slide"
    }
   },
   "source": [
    "## Functions\n",
    "\n",
    "The basic format for `bash` functions is\n",
    "\n",
    "```bash\n",
    "function function_name() {\n",
    "  one or more shell commands\n",
    "}\n",
    "```\n",
    "The same argument rules apply for functions as for scripts (but `$0` is a bit weird)."
   ]
  },
  {
   "cell_type": "code",
   "execution_count": 9,
   "metadata": {
    "slideshow": {
     "slide_type": "subslide"
    }
   },
   "outputs": [],
   "source": [
    "function print_args() {\n",
    "    echo \"Number of args is $#\"\n",
    "    echo \"Function name is $0\"\n",
    "    echo \"First argument is $1\"\n",
    "    echo \"All arguments: $@\"\n",
    "}"
   ]
  },
  {
   "cell_type": "code",
   "execution_count": 10,
   "metadata": {
    "slideshow": {
     "slide_type": "fragment"
    }
   },
   "outputs": [
    {
     "name": "stdout",
     "output_type": "stream",
     "text": [
      "Number of args is 3\n",
      "Function name is /bin/bash\n",
      "First argument is 1\n",
      "All arguments: 1 2 hello\n"
     ]
    }
   ],
   "source": [
    "print_args 1 2 \"hello\""
   ]
  },
  {
   "cell_type": "markdown",
   "metadata": {
    "slideshow": {
     "slide_type": "subslide"
    }
   },
   "source": [
    "## Selection \n",
    "\n",
    "The basic `if`/`elseif`/`else` statement in `bash` is as follows:\n",
    "\n",
    "```bash\n",
    "if condition1; then\n",
    "  shell commands\n",
    "elif condition2; then\n",
    "  other shell commands\n",
    "else\n",
    "  and yet other commands\n",
    "fi\n",
    "```"
   ]
  },
  {
   "cell_type": "markdown",
   "metadata": {
    "slideshow": {
     "slide_type": "subslide"
    }
   },
   "source": [
    "**Example**: Which number if larger, `a` or `b`?"
   ]
  },
  {
   "cell_type": "code",
   "execution_count": 14,
   "metadata": {
    "slideshow": {
     "slide_type": "fragment"
    }
   },
   "outputs": [
    {
     "name": "stdout",
     "output_type": "stream",
     "text": [
      "a is less than b\n"
     ]
    }
   ],
   "source": [
    "a=1\n",
    "b=2\n",
    "\n",
    "if [ $a -lt $b ]; then # \n",
    "    echo \"a is less than b\"\n",
    "elif [ $a -eq $b ]; then\n",
    "    echo \"a is equal to b\"\n",
    "else\n",
    "    echo \"a is greater than b\"\n",
    "fi"
   ]
  },
  {
   "cell_type": "markdown",
   "metadata": {
    "slideshow": {
     "slide_type": "subslide"
    }
   },
   "source": [
    "**Example**: Does a command exist in the path?  (There are plenty of ways to do this"
   ]
  },
  {
   "cell_type": "code",
   "execution_count": 16,
   "metadata": {
    "slideshow": {
     "slide_type": "subslide"
    }
   },
   "outputs": [
    {
     "name": "stdout",
     "output_type": "stream",
     "text": [
      "Command exists!\n"
     ]
    }
   ],
   "source": [
    "command=\"python\" # I shouldn't have this command, right? \n",
    "if [ $(which $command) ]  # what's going on here?\n",
    "then\n",
    "    echo \"Command exists!\"\n",
    "else\n",
    "    echo \"Command does not exist!\"\n",
    "fi"
   ]
  },
  {
   "cell_type": "markdown",
   "metadata": {
    "slideshow": {
     "slide_type": "slide"
    }
   },
   "source": [
    "## Iteration \n",
    "\n",
    "The basic `for` loops in `bash` looks like\n",
    "\n",
    "```bash\n",
    "for x in {1..5}      for x in [list of things]  for (( init ; condition ; increment ))\n",
    "do                   do                         do\n",
    "    shell commands       shell commands             shell commands\n",
    "done                 done                       done\n",
    "```"
   ]
  },
  {
   "cell_type": "markdown",
   "metadata": {
    "slideshow": {
     "slide_type": "subslide"
    }
   },
   "source": [
    "**Example**: Print out each argument given to a function."
   ]
  },
  {
   "cell_type": "code",
   "execution_count": null,
   "metadata": {
    "slideshow": {
     "slide_type": "fragment"
    }
   },
   "outputs": [],
   "source": [
    "function print_em {\n",
    "  for arg in $@\n",
    "  do\n",
    "      echo $arg\n",
    "  done\n",
    "}"
   ]
  },
  {
   "cell_type": "code",
   "execution_count": null,
   "metadata": {
    "slideshow": {
     "slide_type": "fragment"
    }
   },
   "outputs": [],
   "source": [
    "print_em 123 \"hello\" 456"
   ]
  },
  {
   "cell_type": "code",
   "execution_count": null,
   "metadata": {
    "slideshow": {
     "slide_type": "subslide"
    }
   },
   "outputs": [],
   "source": [
    "function print_em2 {\n",
    "  for (( i=0; i < $#; i=i+1 ))\n",
    "  do\n",
    "      echo $i\n",
    "  done\n",
    "}"
   ]
  },
  {
   "cell_type": "code",
   "execution_count": null,
   "metadata": {
    "slideshow": {
     "slide_type": "fragment"
    }
   },
   "outputs": [],
   "source": [
    "print_em2 12 13 14"
   ]
  },
  {
   "cell_type": "markdown",
   "metadata": {
    "slideshow": {
     "slide_type": "slide"
    }
   },
   "source": [
    "# A final exercise!\n",
    "\n",
    "Write a bash script that uses any tricks in `bash` to list the top 5 largest files in a directory (or fewer if less than 5).  Here, `awk \"{ print $3 }\" stuff.txt` is of use, where `stuff.txt` is of the form \n",
    "\n",
    "```\n",
    "do   rey me    fa   so   la  ti    do\n",
    "one  two three four five six seven eight\n",
    "```\n",
    "\n",
    "Put it all together!"
   ]
  }
 ],
 "metadata": {
  "celltoolbar": "Slideshow",
  "kernelspec": {
   "display_name": "Bash",
   "language": "bash",
   "name": "bash"
  },
  "language_info": {
   "codemirror_mode": "shell",
   "file_extension": ".sh",
   "mimetype": "text/x-sh",
   "name": "bash"
  }
 },
 "nbformat": 4,
 "nbformat_minor": 2
}

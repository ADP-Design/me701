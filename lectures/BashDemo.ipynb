{
 "cells": [
  {
   "cell_type": "markdown",
   "metadata": {
    "slideshow": {
     "slide_type": "slide"
    }
   },
   "source": [
    "# A Bit of Bash\n",
    "\n",
    "By the end of this lecture, you will understand how to write simple programs in `bash`, the *The Bourne again shell* we are using in Linux.  "
   ]
  },
  {
   "cell_type": "markdown",
   "metadata": {
    "slideshow": {
     "slide_type": "subslide"
    }
   },
   "source": [
    "## Required Preparation\n",
    "\n",
    "- Skim TLC 363--494\n",
    "- Create a comparison sheet of `bash` relative to your favorite programming language.  Most likely, `bash` (as a language) is new to all of you, and I find the best way to learn a new language is to compare its syntax (variables, `if` statements, `for` loops, etc.) to those of a language I already know (e.g., Python).\n",
    "- If you want to follow along with this notebook, you'll need to get the `bash` kernel by executing the following in the command line:\n",
    "    ```\n",
    "    pip install bash_kernel\n",
    "    python -m bash_kernel.install\n",
    "    ```"
   ]
  },
  {
   "cell_type": "markdown",
   "metadata": {
    "slideshow": {
     "slide_type": "slide"
    }
   },
   "source": [
    "## Variables"
   ]
  },
  {
   "cell_type": "markdown",
   "metadata": {
    "slideshow": {
     "slide_type": "fragment"
    }
   },
   "source": [
    "To define a variable, set a value to a name:"
   ]
  },
  {
   "cell_type": "code",
   "execution_count": null,
   "metadata": {
    "slideshow": {
     "slide_type": "fragment"
    }
   },
   "outputs": [],
   "source": [
    "a=123"
   ]
  },
  {
   "cell_type": "code",
   "execution_count": null,
   "metadata": {
    "slideshow": {
     "slide_type": "fragment"
    }
   },
   "outputs": [],
   "source": [
    "echo $a # echo prints to standard out, and \"#\" starts a comment"
   ]
  },
  {
   "cell_type": "markdown",
   "metadata": {
    "slideshow": {
     "slide_type": "fragment"
    }
   },
   "source": [
    "The `$` is required to get the value of `a`.  If we didn't use it, we'd find"
   ]
  },
  {
   "cell_type": "code",
   "execution_count": null,
   "metadata": {
    "slideshow": {
     "slide_type": "fragment"
    }
   },
   "outputs": [],
   "source": [
    "echo a"
   ]
  },
  {
   "cell_type": "markdown",
   "metadata": {
    "slideshow": {
     "slide_type": "subslide"
    }
   },
   "source": [
    "Here, `a` is a (local) variable accessible only in this shell instance.  An *environment variable* is global to all shells instantiated by the present shell (called *subprocesses*)."
   ]
  },
  {
   "cell_type": "code",
   "execution_count": null,
   "metadata": {
    "slideshow": {
     "slide_type": "fragment"
    }
   },
   "outputs": [],
   "source": [
    "a=123\n",
    "echo 'echo \"a is $a!\" ' > tmp.sh # note ' vs \" \n",
    "bash ./tmp.sh"
   ]
  },
  {
   "cell_type": "code",
   "execution_count": null,
   "metadata": {
    "slideshow": {
     "slide_type": "subslide"
    }
   },
   "outputs": [],
   "source": [
    "export a=123 # <-- now an environment variable\n",
    "bash ./tmp.sh"
   ]
  },
  {
   "cell_type": "markdown",
   "metadata": {
    "slideshow": {
     "slide_type": "subslide"
    }
   },
   "source": [
    "We can also define variables using the output of commands:"
   ]
  },
  {
   "cell_type": "code",
   "execution_count": null,
   "metadata": {
    "slideshow": {
     "slide_type": "fragment"
    }
   },
   "outputs": [],
   "source": [
    "a=$(ls)\n",
    "echo $a"
   ]
  },
  {
   "cell_type": "markdown",
   "metadata": {
    "slideshow": {
     "slide_type": "subslide"
    }
   },
   "source": [
    "We can also call scripts with arguments, e.g.,\n",
    "\n",
    "```bash\n",
    "bash myscript.sh 123 \"hello\" \n",
    "```\n",
    "\n",
    "If $n$ arguments are given, they are accessed as `$1`, `$2`, etc.  Get all of them with `$@`.\n",
    "\n",
    "The variable `$0` is the function name, while `$#` is the number of arguments (i.e., $n$).These same variable rules apply to *scripts* called from the command line."
   ]
  },
  {
   "cell_type": "code",
   "execution_count": null,
   "metadata": {
    "slideshow": {
     "slide_type": "subslide"
    }
   },
   "outputs": [],
   "source": [
    "# Write a little shell script using redirection\n",
    "printf 'echo \"Number of args is $#\"\n",
    "echo \"Function name is $0\"\n",
    "echo \"First argument is $1\"\n",
    "echo \"All arguments: $@\"' > myscript.sh\n",
    "# Execute it!\n",
    "bash ./myscript.sh 123 \"hello\""
   ]
  },
  {
   "cell_type": "markdown",
   "metadata": {
    "slideshow": {
     "slide_type": "slide"
    }
   },
   "source": [
    "Numerical variables are a bit clunkier in `bash` but can be defined and used in arithmetic expressions.  For example, we can define `x=2` and `y=3`, and perform a variety of arithmetic operations:"
   ]
  },
  {
   "cell_type": "code",
   "execution_count": null,
   "metadata": {
    "slideshow": {
     "slide_type": "fragment"
    }
   },
   "outputs": [],
   "source": [
    "x=2\n",
    "y=3"
   ]
  },
  {
   "cell_type": "code",
   "execution_count": null,
   "metadata": {
    "slideshow": {
     "slide_type": "fragment"
    }
   },
   "outputs": [],
   "source": [
    "echo $((x+y))  # addition\n",
    "echo $((x*y))  # multiplication\n",
    "echo $((x**y)) # exponentiation"
   ]
  },
  {
   "cell_type": "code",
   "execution_count": null,
   "metadata": {
    "slideshow": {
     "slide_type": "fragment"
    }
   },
   "outputs": [],
   "source": [
    "echo $((y/x)) # division...?"
   ]
  },
  {
   "cell_type": "markdown",
   "metadata": {
    "slideshow": {
     "slide_type": "subslide"
    }
   },
   "source": [
    "An alternative: `bc`."
   ]
  },
  {
   "cell_type": "code",
   "execution_count": null,
   "metadata": {
    "slideshow": {
     "slide_type": "fragment"
    }
   },
   "outputs": [],
   "source": [
    "echo $(echo \"$y / $x\" | bc) # piping plus output capture"
   ]
  },
  {
   "cell_type": "markdown",
   "metadata": {
    "slideshow": {
     "slide_type": "slide"
    }
   },
   "source": [
    "## Functions\n",
    "\n",
    "The basic format for `bash` functions is\n",
    "\n",
    "```bash\n",
    "function function_name() {\n",
    "  one or more shell commands\n",
    "}\n",
    "```\n",
    "The same argument rules apply for functions as for scripts (but `$0` is a bit weird)."
   ]
  },
  {
   "cell_type": "code",
   "execution_count": null,
   "metadata": {
    "slideshow": {
     "slide_type": "subslide"
    }
   },
   "outputs": [],
   "source": [
    "function print_args() {\n",
    "    echo \"Number of args is $#\"\n",
    "    echo \"Function name is $0\"\n",
    "    echo \"First argument is $1\"\n",
    "    echo \"All arguments: $@\"\n",
    "}"
   ]
  },
  {
   "cell_type": "code",
   "execution_count": null,
   "metadata": {
    "slideshow": {
     "slide_type": "fragment"
    }
   },
   "outputs": [],
   "source": [
    "print_args 1 2 \"hello\""
   ]
  },
  {
   "cell_type": "markdown",
   "metadata": {
    "slideshow": {
     "slide_type": "subslide"
    }
   },
   "source": [
    "## Selection \n",
    "\n",
    "The basic `if`/`elseif`/`else` statement in `bash` is as follows:\n",
    "\n",
    "```bash\n",
    "if condition1; then\n",
    "  shell commands\n",
    "elif condition2; then\n",
    "  other shell commands\n",
    "else\n",
    "  and yet other commands\n",
    "fi\n",
    "```"
   ]
  },
  {
   "cell_type": "markdown",
   "metadata": {
    "slideshow": {
     "slide_type": "subslide"
    }
   },
   "source": [
    "**Example**: Which number is larger, `a` or `b`?"
   ]
  },
  {
   "cell_type": "code",
   "execution_count": null,
   "metadata": {
    "slideshow": {
     "slide_type": "fragment"
    }
   },
   "outputs": [],
   "source": [
    "a=1\n",
    "b=2\n",
    "\n",
    "if [ $a -lt $b ]; then #  \n",
    "    echo \"a is less than b\"\n",
    "elif [ $a -eq $b ]; then\n",
    "    echo \"a is equal to b\"\n",
    "else\n",
    "    echo \"a is greater than b\"\n",
    "fi"
   ]
  },
  {
   "cell_type": "markdown",
   "metadata": {
    "slideshow": {
     "slide_type": "subslide"
    }
   },
   "source": [
    "**Example**: Does a command exist in the path?  (There are plenty of ways to do this.)"
   ]
  },
  {
   "cell_type": "code",
   "execution_count": null,
   "metadata": {
    "slideshow": {
     "slide_type": "subslide"
    }
   },
   "outputs": [],
   "source": [
    "command=\"python\" # I shouldn't have this command, right? \n",
    "if [ $(which $command) ]  # what's going on here?\n",
    "then\n",
    "    echo \"Command exists!\"\n",
    "else\n",
    "    echo \"Command does not exist!\"\n",
    "fi"
   ]
  },
  {
   "cell_type": "markdown",
   "metadata": {
    "slideshow": {
     "slide_type": "slide"
    }
   },
   "source": [
    "## Iteration \n",
    "\n",
    "The basic `for` loops in `bash` look like"
   ]
  },
  {
   "cell_type": "markdown",
   "metadata": {
    "slideshow": {
     "slide_type": "fragment"
    }
   },
   "source": [
    "```bash\n",
    "for x in {1..5} \n",
    "do\n",
    "    shell commands\n",
    "done\n",
    "```"
   ]
  },
  {
   "cell_type": "markdown",
   "metadata": {
    "slideshow": {
     "slide_type": "fragment"
    }
   },
   "source": [
    "```bash\n",
    "for x in [list of things]\n",
    "do\n",
    "    shell commands\n",
    "done\n",
    "```"
   ]
  },
  {
   "cell_type": "markdown",
   "metadata": {
    "slideshow": {
     "slide_type": "fragment"
    }
   },
   "source": [
    "```bash\n",
    "for (( init ; condition ; increment ))\n",
    "do                  \n",
    "    shell commands    \n",
    "done               \n",
    "```"
   ]
  },
  {
   "cell_type": "markdown",
   "metadata": {
    "slideshow": {
     "slide_type": "subslide"
    }
   },
   "source": [
    "**Example**: Print out each argument given to a function."
   ]
  },
  {
   "cell_type": "code",
   "execution_count": null,
   "metadata": {
    "slideshow": {
     "slide_type": "fragment"
    }
   },
   "outputs": [],
   "source": [
    "function print_em {\n",
    "  for arg in $@\n",
    "  do\n",
    "      echo $arg\n",
    "  done\n",
    "}"
   ]
  },
  {
   "cell_type": "code",
   "execution_count": null,
   "metadata": {
    "slideshow": {
     "slide_type": "fragment"
    }
   },
   "outputs": [],
   "source": [
    "print_em 123 \"hello\" 456"
   ]
  },
  {
   "cell_type": "code",
   "execution_count": null,
   "metadata": {
    "slideshow": {
     "slide_type": "subslide"
    }
   },
   "outputs": [],
   "source": [
    "function print_em2 {\n",
    "  for (( i=0; i < $#; i=i+1 ))\n",
    "  do\n",
    "      echo $i\n",
    "  done\n",
    "}"
   ]
  },
  {
   "cell_type": "code",
   "execution_count": null,
   "metadata": {
    "slideshow": {
     "slide_type": "fragment"
    }
   },
   "outputs": [],
   "source": [
    "print_em2 12 13 14"
   ]
  },
  {
   "cell_type": "markdown",
   "metadata": {
    "slideshow": {
     "slide_type": "slide"
    }
   },
   "source": [
    "# Exercises\n",
    "\n",
    "Here are some exercises we'll tackle using a text editor and `bash`.  All will become homework problems.\n",
    "\n",
    "## Exercise 1\n",
    "\n",
    "Write a bash script that converts a temperature from degrees Fahrenheit to degrees Celcius. \n",
    "One way is to use `bc`; see TLCL for more.  The script should be called `temperature.sh`.\n",
    "\n",
    "## Exercise 2\n",
    " \n",
    "Write a bash script that provides a count of the number of (1) files and (2) subdirectories in the current directory.  The script should be named `count_files_and_subdirs.sh`.  (Tools like `wc` and `grep` might be very helpful.)\n",
    "\n",
    "## Exercise 3\n",
    "\n",
    "Write a bash script that uses any tricks in `bash` to list the top 5 largest files in a directory (or fewer if less than 5).  Here, `awk '{ print $3 }' stuff.txt` is of use, where `stuff.txt` is of the form \n",
    "\n",
    "```\n",
    "do   rey me    fa   so   la  ti    do\n",
    "one  two three four five six seven eight\n",
    "```\n",
    "\n",
    "Put it all together!"
   ]
  }
 ],
 "metadata": {
  "celltoolbar": "Slideshow",
  "kernelspec": {
   "display_name": "Bash",
   "language": "bash",
   "name": "bash"
  },
  "language_info": {
   "codemirror_mode": "shell",
   "file_extension": ".sh",
   "mimetype": "text/x-sh",
   "name": "bash"
  },
  "livereveal": {
   "scroll": true
  }
 },
 "nbformat": 4,
 "nbformat_minor": 2
}

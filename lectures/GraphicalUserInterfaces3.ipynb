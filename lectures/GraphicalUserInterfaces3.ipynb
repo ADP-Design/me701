{
 "cells": [
  {
   "cell_type": "markdown",
   "metadata": {
    "slideshow": {
     "slide_type": "slide"
    }
   },
   "source": [
    "## Graphical User Interfaces - Part 3\n",
    "\n",
    "Part three of a three-part introduction to basic GUIs using PyQt5.  In this lesson, we'll focus on embedded graphics and other topics of potential interest and utility."
   ]
  },
  {
   "cell_type": "markdown",
   "metadata": {
    "slideshow": {
     "slide_type": "subslide"
    }
   },
   "source": [
    "## Required Preparation\n",
    "\n",
    " - Go over this  [example](https://matplotlib.org/examples/user_interfaces/embedding_in_qt5.html) about connecting to the Matplotlib Qt5 backend.\n",
    " - Skim the [README](https://github.com/pyqtgraph/pyqtgraph) for PyQtGraph, a Qt-based module for faster-than-Matplotlib visualization."
   ]
  },
  {
   "cell_type": "markdown",
   "metadata": {
    "slideshow": {
     "slide_type": "subslide"
    }
   },
   "source": [
    "## Variety via Layouts\n",
    "\n",
    "Insert the following in place of the single `QLineEdit` widget used above.\n",
    "\n",
    "```python\n",
    "widget = QWidget()\n",
    "self.edit1 = QLineEdit(\"widget 1\")\n",
    "self.edit2 = QLineEdit(\"widget 2\")\n",
    "self.edit3 = QLineEdit(\"widget 3\")\n",
    "\n",
    "layout = QVBoxLayout()\n",
    "layout.addWidget(self.edit1)\n",
    "layout.addWidget(self.edit2)  \n",
    "layout.addWidget(self.edit3)  \n",
    "widget.setLayout(layout)\n",
    "```"
   ]
  },
  {
   "cell_type": "markdown",
   "metadata": {
    "slideshow": {
     "slide_type": "subslide"
    }
   },
   "source": [
    "## Exercise 1\n",
    "\n",
    "Let `edit1` have a value for `x`, `edit2` have a mathematical expression, e.g., `math.sin(x)`, and `edit3` have the output of this operation.  Use the `returnPressed` signal in `edit3` to evaluate the expression and to update the text shown with the result of that evaluation."
   ]
  },
  {
   "cell_type": "markdown",
   "metadata": {
    "slideshow": {
     "slide_type": "subslide"
    }
   },
   "source": [
    "# Embedding Matplotlib\n",
    "\n",
    "```python\n",
    "from matplotlib.backends.backend_qt5agg import FigureCanvas\n",
    "from matplotlib.figure import Figure\n",
    "\n",
    "class MyCanvas(FigureCanvas):\n",
    "   \n",
    "    def __init__(self, parent=None):\n",
    "        fig = Figure()\n",
    "        self.axes = fig.add_subplot(111)\n",
    "        super(MyCanvas, self).__init__(fig)\n",
    "  \n",
    "        # Give it some default plot (if desired).  \n",
    "        self.axes.plot([1,2,3,4,5], [1,4,9,16,25])\n",
    "        self.axes.set_xlabel('x')\n",
    "        self.axes.set_ylabel('y(x)')  \n",
    "        self.axes.set_title('default title')\n",
    "        self.setParent(parent)\n",
    "```"
   ]
  },
  {
   "cell_type": "markdown",
   "metadata": {
    "slideshow": {
     "slide_type": "subslide"
    }
   },
   "source": [
    "## Exercise 4\n",
    "\n",
    "  - Add a fourth widget representing the plot to Exercise 3."
   ]
  }
 ],
 "metadata": {
  "celltoolbar": "Slideshow",
  "kernelspec": {
   "display_name": "Python 3",
   "language": "python",
   "name": "python3"
  },
  "language_info": {
   "codemirror_mode": {
    "name": "ipython",
    "version": 3
   },
   "file_extension": ".py",
   "mimetype": "text/x-python",
   "name": "python",
   "nbconvert_exporter": "python",
   "pygments_lexer": "ipython3",
   "version": "3.7.3"
  },
  "livereveal": {
   "scroll": true
  }
 },
 "nbformat": 4,
 "nbformat_minor": 2
}

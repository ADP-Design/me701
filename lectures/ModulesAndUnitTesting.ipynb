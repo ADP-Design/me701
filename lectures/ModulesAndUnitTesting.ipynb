{
 "cells": [
  {
   "cell_type": "markdown",
   "metadata": {
    "slideshow": {
     "slide_type": "slide"
    }
   },
   "source": [
    "# Modules and Unit Testing\n",
    "\n",
    "By the end of this lesson, we'll have examined how modules and packages are organized in Python.  We'll also look at how to use unit tests as part of test-driven development."
   ]
  },
  {
   "cell_type": "markdown",
   "metadata": {
    "slideshow": {
     "slide_type": "subslide"
    }
   },
   "source": [
    "## Required Preparation\n",
    "\n",
    "- Review [Modules and Packages](https://robertsj.github.io/me400_notes/lectures/Modules_and_Packages.html)\n",
    "  and [Unit Tests and Defensive Programming](https://robertsj.github.io/me400_notes/lectures/Unit_Tests_and_Defensive_Programming.html)\n",
    "- For your leisure: [Test-Driven Development\n",
    "in HPC Science: A Case\n",
    "Study](https://ieeexplore.ieee.org/stamp/stamp.jsp?tp=&arnumber=8452053)\n"
   ]
  },
  {
   "cell_type": "markdown",
   "metadata": {
    "slideshow": {
     "slide_type": "slide"
    }
   },
   "source": [
    "## Test-Driven Development\n",
    "\n",
    "Directly from Wikipedia:\n",
    "\n",
    "    Test-driven development (TDD) is a software development process that relies on the repetition of a very short development cycle: requirements are turned into very specific test cases, then the software is improved so that the tests pass. This is opposed to software development that allows software to be added that is not proven to meet requirements. "
   ]
  },
  {
   "cell_type": "markdown",
   "metadata": {
    "slideshow": {
     "slide_type": "slide"
    }
   },
   "source": [
    "## In-Class Exercise\n",
    "\n",
    "Explore the following: https://docs.python-guide.org/writing/structure/"
   ]
  }
 ],
 "metadata": {
  "celltoolbar": "Slideshow",
  "kernelspec": {
   "display_name": "Python 3",
   "language": "python",
   "name": "python3"
  },
  "language_info": {
   "codemirror_mode": {
    "name": "ipython",
    "version": 3
   },
   "file_extension": ".py",
   "mimetype": "text/x-python",
   "name": "python",
   "nbconvert_exporter": "python",
   "pygments_lexer": "ipython3",
   "version": "3.7.3"
  }
 },
 "nbformat": 4,
 "nbformat_minor": 2
}

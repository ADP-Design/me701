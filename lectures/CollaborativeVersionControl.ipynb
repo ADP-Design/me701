{
 "cells": [
  {
   "cell_type": "markdown",
   "metadata": {
    "slideshow": {
     "slide_type": "slide"
    }
   },
   "source": [
    "# Collaborative Version Control with `git` and GitHub\n",
    "\n",
    "By the end of this lesson, you should be able to demonstrate the basic, collaborative development cycle using `git` and `github.com`."
   ]
  },
  {
   "cell_type": "markdown",
   "metadata": {
    "slideshow": {
     "slide_type": "subslide"
    }
   },
   "source": [
    "## Required Preparation\n",
    "\n",
    "- Skim *Pro Git* chapters 5 and 6.\n",
    "- Continue your own `git` \"cheat sheet\""
   ]
  },
  {
   "cell_type": "markdown",
   "metadata": {
    "slideshow": {
     "slide_type": "slide"
    }
   },
   "source": [
    "## Working With Your Pull-Request Partners for Homework 2\n",
    "\n",
    " 1. Suppose your username on GitHub is `yoda`.  \n",
    " 2. Suppose you are to make a pull request to `luke`.  \n",
    " 3. Suppose `rey` is to make a pull request to you."
   ]
  },
  {
   "cell_type": "markdown",
   "metadata": {
    "slideshow": {
     "slide_type": "subslide"
    }
   },
   "source": [
    "You have this repository initialized on GitHub:\n",
    "\n",
    "```\n",
    "https://github.com/me701/homework-2-yoda\n",
    "```\n",
    "\n",
    "You friend `luke` has this one, which you should *fork*:\n",
    "\n",
    "```\n",
    "https://github.com/me701/homework-2-luke\n",
    "```\n",
    "\n",
    "Once you fork it, you'll have this one:\n",
    "\n",
    "```\n",
    "https://github.com/yoda/homework-2-luke\n",
    "```"
   ]
  },
  {
   "cell_type": "markdown",
   "metadata": {
    "slideshow": {
     "slide_type": "subslide"
    }
   },
   "source": [
    "Clone this (i.e., copy it to your local machine) via \n",
    "\n",
    "```bash\n",
    "git clone https://github.com/yoda/homework-2-luke.git\n",
    "```\n",
    "\n",
    "Make a new branch called `dev`:\n",
    "\n",
    "```bash\n",
    "cd homework-2-luke-git\n",
    "git checkout -b dev\n",
    "```"
   ]
  },
  {
   "cell_type": "markdown",
   "metadata": {
    "slideshow": {
     "slide_type": "subslide"
    }
   },
   "source": [
    "\n",
    "Make a change, e.g., adding a new file, modifying an existing one, etc.  Make your commits and then push:\n",
    "\n",
    "```bash\n",
    "git push origin dev\n",
    "```\n",
    "\n",
    "What's origin?  That's your default remote.  List all via:\n",
    "\n",
    "```bash\n",
    "git remote -v\n",
    "```\n",
    "\n",
    "Make a PR into `me701/homework-2-luke` by navigating GitHub as shown in class."
   ]
  },
  {
   "cell_type": "markdown",
   "metadata": {
    "slideshow": {
     "slide_type": "slide"
    }
   },
   "source": [
    "## Syncing Remotes\n",
    "\n",
    "Alas, forks are not automatically updated.  For example, suppose `luke` made some changes to `corps-g/homework-2-luke` in the `master` branch.  These changes will not show up in `yoda/homework-2-luke`.  You need to get those changes yourself.\n",
    "\n",
    "```\n",
    "git remote add luke https://github.com/corps-g/homework-2-luke\n",
    "```\n",
    "\n",
    "This adds a new remote called `luke` that, like `origin`, represents a repository located somewhere else (the internet, a separate `git` repo on your machine or cluster, etc.)."
   ]
  },
  {
   "cell_type": "markdown",
   "metadata": {
    "slideshow": {
     "slide_type": "subslide"
    }
   },
   "source": [
    "\n",
    "Download any changes `luke` made by executing\n",
    "\n",
    "```bash\n",
    "git fetch luke\n",
    "```\n",
    "\n",
    "Merge changes in `luke/master` into your current branch by executing\n",
    "\n",
    "```bash\n",
    "git merge luke/master\n",
    "```\n",
    "\n",
    "Now, your current branch is up-to-date with whatever `luke` has on GitHub."
   ]
  },
  {
   "cell_type": "code",
   "execution_count": null,
   "metadata": {},
   "outputs": [],
   "source": []
  }
 ],
 "metadata": {
  "celltoolbar": "Slideshow",
  "kernelspec": {
   "display_name": "Python 3",
   "language": "python",
   "name": "python3"
  },
  "language_info": {
   "codemirror_mode": {
    "name": "ipython",
    "version": 3
   },
   "file_extension": ".py",
   "mimetype": "text/x-python",
   "name": "python",
   "nbconvert_exporter": "python",
   "pygments_lexer": "ipython3",
   "version": "3.7.3"
  },
  "livereveal": {
   "scroll": true
  }
 },
 "nbformat": 4,
 "nbformat_minor": 2
}

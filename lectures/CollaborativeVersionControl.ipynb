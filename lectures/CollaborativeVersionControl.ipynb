{
 "cells": [
  {
   "cell_type": "markdown",
   "metadata": {
    "slideshow": {
     "slide_type": "slide"
    }
   },
   "source": [
    "# Collaborative Version Control with `git` and GitHub\n",
    "\n",
    "By the end of this lesson, you should be able to demonstrate the basic, collaborative development cycle using `git` and `github.com`.\n",
    "\n",
    "The last few slides give a walk through of what you need to do for part of homework 2."
   ]
  },
  {
   "cell_type": "markdown",
   "metadata": {
    "slideshow": {
     "slide_type": "subslide"
    }
   },
   "source": [
    "## Required Preparation\n",
    "\n",
    "- Skim *Pro Git* chapters 5 and 6.\n",
    "- Continue your own `git` \"cheat sheet\""
   ]
  },
  {
   "cell_type": "markdown",
   "metadata": {
    "slideshow": {
     "slide_type": "subslide"
    }
   },
   "source": [
    "## A Few New Commands We'll Use\n",
    "\n",
    "```bash\n",
    "git remote ???\n",
    "git fetch ???\n",
    "git pull ???\n",
    "...\n",
    "```"
   ]
  },
  {
   "cell_type": "markdown",
   "metadata": {
    "slideshow": {
     "slide_type": "slide"
    }
   },
   "source": [
    "# Workflows\n",
    "\n",
    "Collaborative development of projects requires a careful plan for the flow, approval, and integration of changes.\n",
    "\n",
    "Two workflows that I have used:\n",
    "  - Centralized\n",
    "  - Integration-Manager"
   ]
  },
  {
   "cell_type": "markdown",
   "metadata": {
    "slideshow": {
     "slide_type": "subslide"
    }
   },
   "source": [
    "<img src=\"https://git-scm.com/book/en/v2/images/centralized_workflow.png\" alt=\"drawing\" width=\"500\"/>"
   ]
  },
  {
   "cell_type": "markdown",
   "metadata": {
    "slideshow": {
     "slide_type": "subslide"
    }
   },
   "source": [
    "<img src=\"https://git-scm.com/book/en/v2/images/integration-manager.png\" alt=\"drawing\" width=\"600\"/>"
   ]
  },
  {
   "cell_type": "markdown",
   "metadata": {
    "slideshow": {
     "slide_type": "slide"
    }
   },
   "source": [
    "# In-Class Activity 1\n",
    "\n",
    "Goal: understand how to ensure local copies remain up-to-date.\n",
    "\n",
    "  1. Head to https://github.com/robertsj/me701\n",
    "  "
   ]
  },
  {
   "cell_type": "markdown",
   "metadata": {
    "slideshow": {
     "slide_type": "slide"
    }
   },
   "source": [
    "# In-Class Activity 2\n",
    "\n",
    "**Goal**: understand basic mechanics of a two-person development cycle.\n",
    "\n",
    " 1. Each row is a \"team\" for this in-class activity.  Introduce yourselves and have GitHub usernames handy.\n",
    " 2. To simplify things, choose just *one* computer for the interactive part of this task.\n",
    " 3. Navigate to https://github.com/me701/homework2_teams and await further instruction."
   ]
  },
  {
   "cell_type": "markdown",
   "metadata": {
    "slideshow": {
     "slide_type": "subslide"
    }
   },
   "source": [
    "### Part 1 - Basic Pull-Request Exercise\n",
    "  - Fork `me701/homework2_teams` to `username/homework2_teams`\n",
    "  - Clone `username/homework2_teams` to local computer\n",
    "  - Edit `README.md` as specified, add, and commit.\n",
    "  - Push changes to `username/homework2_teams`\n",
    "  - Make a pull request to merge commits from `username/homework2_teams` into `me701/homework2_teams`"
   ]
  },
  {
   "cell_type": "markdown",
   "metadata": {
    "slideshow": {
     "slide_type": "subslide"
    }
   },
   "source": [
    "### Part 2 - Syncing Your Fork with the Original\n",
    "\n",
    " - Add the `me701/homework2_teams` as a remote to your local repository\n",
    " - Fetch changes \n",
    " - Merge changes (and correct for *merge conflicts* if needed)"
   ]
  },
  {
   "cell_type": "markdown",
   "metadata": {
    "slideshow": {
     "slide_type": "subslide"
    }
   },
   "source": [
    "### Part 3 - Fixing the Merge Conflict\n",
    "\n",
    "  - Edit the conflicted file(s), add, and commit\n",
    "  - Push to `username/homework2_teams` \n",
    "  \n",
    "See the \"Appendix\" at the end of these slides to see how merge conflicts arise when two, non-sequential commits have changes in the same part of a file."
   ]
  },
  {
   "cell_type": "markdown",
   "metadata": {
    "slideshow": {
     "slide_type": "slide"
    }
   },
   "source": [
    "# Working With Your Pull-Request Partners for Homework 2\n",
    "\n",
    " 1. Suppose your username on GitHub is `yoda`.  \n",
    " 2. Suppose you are to make a pull request to `luke`.  \n",
    " 3. Suppose `rey` is to make a pull request to you."
   ]
  },
  {
   "cell_type": "markdown",
   "metadata": {
    "slideshow": {
     "slide_type": "subslide"
    }
   },
   "source": [
    "You have this repository initialized on GitHub:\n",
    "\n",
    "```\n",
    "https://github.com/me701/homework-2-yoda\n",
    "```\n",
    "\n",
    "You friend `luke` has this one, which you should *fork*:\n",
    "\n",
    "```\n",
    "https://github.com/me701/homework-2-luke\n",
    "```\n",
    "\n",
    "Once you fork it, you'll have this one:\n",
    "\n",
    "```\n",
    "https://github.com/yoda/homework-2-luke\n",
    "```"
   ]
  },
  {
   "cell_type": "markdown",
   "metadata": {
    "slideshow": {
     "slide_type": "subslide"
    }
   },
   "source": [
    "Clone this (i.e., copy it to your local machine) via \n",
    "\n",
    "```bash\n",
    "git clone https://github.com/yoda/homework-2-luke.git\n",
    "```\n",
    "\n",
    "Make a new branch called `dev`:\n",
    "\n",
    "```bash\n",
    "cd homework-2-luke-git\n",
    "git checkout -b dev\n",
    "```"
   ]
  },
  {
   "cell_type": "markdown",
   "metadata": {
    "slideshow": {
     "slide_type": "subslide"
    }
   },
   "source": [
    "\n",
    "Make a change, e.g., adding a new file, modifying an existing one, etc.  Make your commits and then push:\n",
    "\n",
    "```bash\n",
    "git push origin dev\n",
    "```\n",
    "\n",
    "What's origin?  That's your default remote.  List all via:\n",
    "\n",
    "```bash\n",
    "git remote -v\n",
    "```\n",
    "\n",
    "Make a PR into `me701/homework-2-luke` by navigating GitHub as shown in class."
   ]
  },
  {
   "cell_type": "markdown",
   "metadata": {
    "slideshow": {
     "slide_type": "slide"
    }
   },
   "source": [
    "## Syncing Remotes\n",
    "\n",
    "Alas, forks are not automatically updated.  For example, suppose `luke` made some changes to `corps-g/homework-2-luke` in the `master` branch.  These changes will not show up in `yoda/homework-2-luke`.  You need to get those changes yourself.\n",
    "\n",
    "```\n",
    "git remote add luke https://github.com/corps-g/homework-2-luke\n",
    "```\n",
    "\n",
    "This adds a new remote called `luke` that, like `origin`, represents a repository located somewhere else (the internet, a separate `git` repo on your machine or cluster, etc.)."
   ]
  },
  {
   "cell_type": "markdown",
   "metadata": {
    "slideshow": {
     "slide_type": "subslide"
    }
   },
   "source": [
    "\n",
    "Download any changes `luke` made by executing\n",
    "\n",
    "```bash\n",
    "git fetch luke\n",
    "```\n",
    "\n",
    "Merge changes in `luke/master` into your current branch by executing\n",
    "\n",
    "```bash\n",
    "git merge luke/master\n",
    "```\n",
    "\n",
    "Now, your current branch is up-to-date with whatever `luke` has on GitHub."
   ]
  },
  {
   "cell_type": "markdown",
   "metadata": {
    "slideshow": {
     "slide_type": "subslide"
    }
   },
   "source": [
    "# Detailed Merge Conflict Example\n",
    "\n",
    "First, create a repository and add a `README.md` file with two lines.\n",
    "\n",
    "```bash\n",
    "(base) robertsj@sampo ~ $ cd ME701/\n",
    "(base) robertsj@sampo ~/ME701 $ mkdir original_repo\n",
    "(base) robertsj@sampo ~/ME701 $ cd original_repo/\n",
    "(base) robertsj@sampo ~/ME701/original_repo $ printf \"line 1\\nline 2\\n\" > README.md\n",
    "(base) robertsj@sampo ~/ME701/original_repo $ more README.md \n",
    "line 1\n",
    "line 2\n",
    "```"
   ]
  },
  {
   "cell_type": "markdown",
   "metadata": {
    "slideshow": {
     "slide_type": "subslide"
    }
   },
   "source": [
    "\n",
    "Then initialize the folder as a repository, add the file, and commit it:\n",
    "```bash\n",
    "(base) robertsj@sampo ~/ME701/original_repo $ git init\n",
    "Initialized empty Git repository in /home/robertsj/ME701/original_repo/.git/\n",
    "(base) robertsj@sampo ~/ME701/original_repo $ git add README.md \n",
    "(base) robertsj@sampo ~/ME701/original_repo $ git commit -m \"initial commit\"\n",
    "[master (root-commit) fdf6c09] initial commit\n",
    " 1 file changed, 2 insertions(+)\n",
    " create mode 100644 README.md\n",
    "```"
   ]
  },
  {
   "cell_type": "markdown",
   "metadata": {
    "slideshow": {
     "slide_type": "subslide"
    }
   },
   "source": [
    "\n",
    "Now, make two \"developer\" repositories:\n",
    "\n",
    "```bash\n",
    "(base) robertsj@sampo ~/ME701/original_repo $ cd ..\n",
    "(base) robertsj@sampo ~/ME701 $ git clone /home/robertsj/ME701/original_repo/ developer1_repo\n",
    "Cloning into 'developer1_repo'...\n",
    "done.\n",
    "(base) robertsj@sampo ~/ME701 $ git clone /home/robertsj/ME701/original_repo/ developer2_repo\n",
    "Cloning into 'developer2_repo'...\n",
    "done.\n",
    "```"
   ]
  },
  {
   "cell_type": "markdown",
   "metadata": {
    "slideshow": {
     "slide_type": "subslide"
    }
   },
   "source": [
    "Add a third like to the `README.md`:\n",
    "\n",
    "```bash\n",
    "(base) robertsj@sampo ~/ME701 $ cd developer1_repo/\n",
    "(base) robertsj@sampo ~/ME701/developer1_repo $ git checkout -b dev\n",
    "Switched to a new branch 'dev'\n",
    "(base) robertsj@sampo ~/ME701/developer1_repo $ printf \"dev 1 line 3\\n\" >> README.md\n",
    "(base) robertsj@sampo ~/ME701/developer1_repo $ more README.md \n",
    "line 1\n",
    "line 2\n",
    "dev 1 line 3\n",
    "```"
   ]
  },
  {
   "cell_type": "markdown",
   "metadata": {
    "slideshow": {
     "slide_type": "subslide"
    }
   },
   "source": [
    "Make the commit, and push to `origin`:\n",
    "\n",
    "```bash\n",
    "(base) robertsj@sampo ~/ME701/developer1_repo $ git remote -v\n",
    "origin\t/home/robertsj/ME701/original_repo/ (fetch)\n",
    "origin\t/home/robertsj/ME701/original_repo/ (push)\n",
    "(base) robertsj@sampo ~/ME701/developer1_repo $ git add README.md\n",
    "(base) robertsj@sampo ~/ME701/developer1_repo $ git commit -m \"Dev 1 added third line\"\n",
    "[master 7311c73] Dev 1 added third line\n",
    " 1 file changed, 1 insertion(+)\n",
    "(base) robertsj@sampo ~/ME701/developer1_repo $ git push origin dev\n",
    "Counting objects: 3, done.\n",
    "Writing objects: 100% (3/3), 275 bytes | 0 bytes/s, done.\n",
    "Total 3 (delta 0), reused 0 (delta 0)\n",
    "To /home/robertsj/ME701/original_repo/\n",
    " * [new branch]      dev -> dev\n",
    "```"
   ]
  },
  {
   "cell_type": "markdown",
   "metadata": {
    "slideshow": {
     "slide_type": "subslide"
    }
   },
   "source": [
    "\n",
    "Now, suppose developer 2 did work in *exactly* the same part of the \"code\" as did developer 1?\n",
    "\n",
    "```bash\n",
    "robertsj@sampo ~/ME701/developer1_repo $ cd ../developer2_repo/\n",
    "robertsj@sampo ~/ME701/developer2_repo $ ls\n",
    "README.md\n",
    "robertsj@sampo ~/ME701/developer2_repo $ git checkout -b dev\n",
    "Switched to a new branch 'dev'\n",
    "robertsj@sampo ~/ME701/developer2_repo $ printf \"dev 2 line 3\\n\" >> README.md\n",
    "robertsj@sampo ~/ME701/developer2_repo $ git add README.md \n",
    "robertsj@sampo ~/ME701/developer2_repo $ git commit -m \"Dev 2 added line 3.\"\n",
    "[dev bec7b6f] Dev 2 added line 3.\n",
    " 1 file changed, 1 insertion(+)\n",
    "```"
   ]
  },
  {
   "cell_type": "markdown",
   "metadata": {
    "slideshow": {
     "slide_type": "subslide"
    }
   },
   "source": [
    "\n",
    "Pushing now leads to issues!\n",
    "\n",
    "```bash\n",
    "(base) robertsj@sampo ~/ME701/developer2_repo $ git push origin dev \n",
    "To /home/robertsj/ME701/original_repo/\n",
    " ! [rejected]        dev -> dev (fetch first)\n",
    "error: failed to push some refs to '/home/robertsj/ME701/original_repo/'\n",
    "hint: Updates were rejected because the remote contains work that you do\n",
    "hint: not have locally. This is usually caused by another repository pushing\n",
    "hint: to the same ref. You may want to first integrate the remote changes\n",
    "hint: (e.g., 'git pull ...') before pushing again.\n",
    "hint: See the 'Note about fast-forwards' in 'git push --help' for details.\n",
    "```"
   ]
  },
  {
   "cell_type": "markdown",
   "metadata": {
    "slideshow": {
     "slide_type": "subslide"
    }
   },
   "source": [
    "The trick is to fetch, merge, and fix any conflicts:\n",
    "\n",
    "```bash\n",
    "(base) robertsj@sampo ~/ME701/developer2_repo $ git fetch origin \n",
    "remote: Counting objects: 3, done.\n",
    "remote: Total 3 (delta 0), reused 0 (delta 0)\n",
    "Unpacking objects: 100% (3/3), done.\n",
    "From /home/robertsj/ME701/original_repo\n",
    " * [new branch]      dev        -> origin/dev\n",
    "(base) robertsj@sampo ~/ME701/developer2_repo $ git merge origin/dev \n",
    "Auto-merging README.md\n",
    "CONFLICT (content): Merge conflict in README.md\n",
    "Automatic merge failed; fix conflicts and then commit the result.\n",
    "```"
   ]
  },
  {
   "cell_type": "markdown",
   "metadata": {
    "slideshow": {
     "slide_type": "subslide"
    }
   },
   "source": [
    "\n",
    "So, fix them!\n",
    "\n",
    "```bash\n",
    "(base) robertsj@sampo ~/ME701/developer2_repo $ gedit README.md \n",
    "```\n",
    "\n",
    "The output of this is:\n",
    "\n",
    "```\n",
    "<<<<<<< HEAD\n",
    "dev 2 line 3\n",
    "=======\n",
    "dev 1 line 3\n",
    ">>>>>>> origin/dev\n",
    "```\n",
    "What happened here?  What should be the result?  Is it unique?"
   ]
  },
  {
   "cell_type": "markdown",
   "metadata": {},
   "source": [
    "Add, commit, and push:\n",
    "\n",
    "```bash\n",
    "(base) robertsj@sampo ~/ME701/developer2_repo $ git add README.md \n",
    "(base) robertsj@sampo ~/ME701/developer2_repo $ git commit -m \"Fixed a conflict!\"\n",
    "[dev 1d4ec0f] Fixed a conflict!\n",
    "(base) robertsj@sampo ~/ME701/developer2_repo $ git push origin dev \n",
    "Counting objects: 6, done.\n",
    "Delta compression using up to 8 threads.\n",
    "Compressing objects: 100% (2/2), done.\n",
    "Writing objects: 100% (6/6), 544 bytes | 0 bytes/s, done.\n",
    "Total 6 (delta 0), reused 0 (delta 0)\n",
    "To /home/robertsj/ME701/original_repo/\n",
    "   7311c73..1d4ec0f  dev -> dev\n",
    "```"
   ]
  }
 ],
 "metadata": {
  "celltoolbar": "Slideshow",
  "kernelspec": {
   "display_name": "Python 3",
   "language": "python",
   "name": "python3"
  },
  "language_info": {
   "codemirror_mode": {
    "name": "ipython",
    "version": 3
   },
   "file_extension": ".py",
   "mimetype": "text/x-python",
   "name": "python",
   "nbconvert_exporter": "python",
   "pygments_lexer": "ipython3",
   "version": "3.7.3"
  },
  "livereveal": {
   "scroll": true
  }
 },
 "nbformat": 4,
 "nbformat_minor": 2
}

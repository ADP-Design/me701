{
 "cells": [
  {
   "cell_type": "markdown",
   "metadata": {
    "slideshow": {
     "slide_type": "slide"
    }
   },
   "source": [
    "## Developing C++ in Eclipse\n",
    "\n",
    "In this lesson, we examine a simple C++ program using the Eclipse tool.\n"
   ]
  },
  {
   "cell_type": "markdown",
   "metadata": {
    "slideshow": {
     "slide_type": "subslide"
    }
   },
   "source": [
    "## Required Preparation\n",
    "\n",
    "  - Download and install Eclipse for C++ (see next slide)\n",
    "  - Clone [this repository](https://github.com/me701/eclipse_cpp_demo)\n",
    "  - Check out this totally unrelated but relevant [article](https://www.techrepublic.com/article/linus-torvalds-git-proved-i-could-be-more-than-a-one-hit-wonder/)."
   ]
  },
  {
   "cell_type": "markdown",
   "metadata": {
    "slideshow": {
     "slide_type": "slide"
    }
   },
   "source": [
    "## Installing Eclipse\n",
    "\n",
    " 1. Head to the Eclipse [download site](https://www.eclipse.org/downloads/) and click the [Download 64-bit](https://www.eclipse.org/downloads/download.php?file=/oomph/epp/2019-09/R/eclipse-inst-linux64.tar.gz) link.\n",
    " 2. Create a folder named `/home/you/opt/eclipse` and move the `eclipse-inst-linux64.tar.gz` file  you just got to that folder.\n",
    " 3. Head to that folder and execute `tar -xf eclipse-inst-linux64.tar.gz`.\n",
    " 4. Go into that folder `eclipse-installer` and execute `./eclipse-inst`.\n",
    " 5. Click on `Eclipse IDE for C/C++ Developers`\n",
    " 6. Change the installation folder to `/home/you/opt/eclipse/cpp-2019-09` and click install.\n",
    " 7. Read the license agreements and accept (unless you really disagree with something).\n",
    " "
   ]
  },
  {
   "cell_type": "markdown",
   "metadata": {
    "slideshow": {
     "slide_type": "slide"
    }
   },
   "source": [
    "## A Walk-Through Eclipse\n",
    "\n",
    " 0. Make sure we can fire up Eclipse.\n",
    " 1. Create a new C++ project from existing source code (find the repository you downloaded)\n",
    " 2. Build the project and check for issues with compilation.\n",
    " 3. Set a Run configuration, which lets us define arguments.\n",
    " 4. Run the program.\n",
    " 5. Trace the program using the debugger."
   ]
  },
  {
   "cell_type": "markdown",
   "metadata": {
    "slideshow": {
     "slide_type": "slide"
    }
   },
   "source": [
    "## Creating Projects from Scratch in Eclipse \n",
    "\n",
    "  0. Make a new C++ project (\"Empty\" and \"Linux GCC\")\n",
    "  1. Use `<cstdio>` and `printf` to say \"Hello, World!\"\n",
    "  2. Build and run (as a C++ application)"
   ]
  }
 ],
 "metadata": {
  "celltoolbar": "Slideshow",
  "kernelspec": {
   "display_name": "Python 3",
   "language": "python",
   "name": "python3"
  },
  "language_info": {
   "codemirror_mode": {
    "name": "ipython",
    "version": 3
   },
   "file_extension": ".py",
   "mimetype": "text/x-python",
   "name": "python",
   "nbconvert_exporter": "python",
   "pygments_lexer": "ipython3",
   "version": "3.7.3"
  }
 },
 "nbformat": 4,
 "nbformat_minor": 2
}

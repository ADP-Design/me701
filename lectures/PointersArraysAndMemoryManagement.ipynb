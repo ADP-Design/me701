{
 "cells": [
  {
   "cell_type": "markdown",
   "metadata": {
    "slideshow": {
     "slide_type": "slide"
    }
   },
   "source": [
    "# Pointers, Arrays, and Memory Management\n",
    "\n",
    "In this lesson, we'll review (or introduce?) the concept of a pointer and their connection to arrays.  We'll also see how to allocate memory dynamically, which requires we manage that memory.  Valgrind is a tool we'll find can help us identify when we've misbehaved!\n",
    "\n",
    "Note, there is *some* code in these slides, but I'm using it primarily to show quick things.  You can use Eclipse, Gedit, etc. for the examples in the repository.\n"
   ]
  },
  {
   "cell_type": "markdown",
   "metadata": {
    "slideshow": {
     "slide_type": "subslide"
    }
   },
   "source": [
    "## Required Preparation\n",
    "\n",
    " - Google \"C++ Pointers\" for one of several short tutorials; here's [one](https://gist.github.com/ericandrewlewis/720c374c29bbafadedc9) that looks pretty good.  \n",
    " - Install valgrind: `sudo apt install valgrind`\n",
    " - Know the difference between [stack](https://www.geeksforgeeks.org/stack-vs-heap-memory-allocation/) and [heap](https://www.geeksforgeeks.org/stack-vs-heap-memory-allocation/) memory allocation.\n",
    " - Get this [repository](https://github.com/me701/cpp_pointers_and_arrays)\n",
    " "
   ]
  },
  {
   "cell_type": "markdown",
   "metadata": {
    "slideshow": {
     "slide_type": "slide"
    }
   },
   "source": [
    "## Pointers, by Example"
   ]
  },
  {
   "cell_type": "code",
   "execution_count": 1,
   "metadata": {
    "slideshow": {
     "slide_type": "subslide"
    }
   },
   "outputs": [],
   "source": [
    "// here is a double variable\n",
    "double x = 1.23;"
   ]
  },
  {
   "cell_type": "code",
   "execution_count": 2,
   "metadata": {
    "slideshow": {
     "slide_type": "fragment"
    }
   },
   "outputs": [],
   "source": [
    "// here is a \"pointer\" to a double\n",
    "double *p = NULL; // = NULL is optional, but it means that p points to \"nothing\""
   ]
  },
  {
   "cell_type": "code",
   "execution_count": 3,
   "metadata": {
    "slideshow": {
     "slide_type": "fragment"
    }
   },
   "outputs": [],
   "source": [
    "// now, let p be equal to the address of x\n",
    "p = &x;"
   ]
  },
  {
   "cell_type": "code",
   "execution_count": 4,
   "metadata": {
    "slideshow": {
     "slide_type": "fragment"
    }
   },
   "outputs": [
    {
     "data": {
      "text/plain": [
       "@0x7ffc06e37148"
      ]
     },
     "execution_count": 4,
     "metadata": {},
     "output_type": "execute_result"
    }
   ],
   "source": [
    "p // the pointer value is a hexadecimal memory location"
   ]
  },
  {
   "cell_type": "code",
   "execution_count": 5,
   "metadata": {
    "slideshow": {
     "slide_type": "fragment"
    }
   },
   "outputs": [
    {
     "data": {
      "text/plain": [
       "1.23"
      ]
     },
     "execution_count": 5,
     "metadata": {},
     "output_type": "execute_result"
    }
   ],
   "source": [
    "x"
   ]
  },
  {
   "cell_type": "code",
   "execution_count": 6,
   "metadata": {
    "slideshow": {
     "slide_type": "fragment"
    }
   },
   "outputs": [
    {
     "data": {
      "text/plain": [
       "1.23"
      ]
     },
     "execution_count": 6,
     "metadata": {},
     "output_type": "execute_result"
    }
   ],
   "source": [
    "*p // dereference operator"
   ]
  },
  {
   "cell_type": "markdown",
   "metadata": {
    "slideshow": {
     "slide_type": "subslide"
    }
   },
   "source": [
    "## Brief Exercise - Pointers for Swapping\n",
    "\n",
    "Given variables `a` and `b` of some arbitrary type `some_type`, use a pointer to swap their values without copying.  In other words, `a = b` is a no go."
   ]
  },
  {
   "cell_type": "code",
   "execution_count": 7,
   "metadata": {
    "slideshow": {
     "slide_type": "fragment"
    }
   },
   "outputs": [],
   "source": [
    "typedef double some_type; // cool, we can abbreviate long type names (great for templates!)\n",
    "some_type a = 1.23;\n",
    "some_type b = 2.34;"
   ]
  },
  {
   "cell_type": "code",
   "execution_count": 9,
   "metadata": {
    "slideshow": {
     "slide_type": "fragment"
    }
   },
   "outputs": [],
   "source": [
    "// solution here"
   ]
  },
  {
   "cell_type": "markdown",
   "metadata": {
    "slideshow": {
     "slide_type": "subslide"
    }
   },
   "source": [
    "## Exercises With the Repository Code\n",
    " \n",
    "- For `a`, try `n = 100`.  Run.  Check output.  Try `n = 1000`.  Run and check.  Try `n = 1000000`, then `n = 2000000`.  Anything happen? \n",
    "\n",
    "- Run `valgrind ./basic_arrays` and have a chuckle at name origins.\n",
    "\n",
    "- Keep on.  Use the debugger to walk through the function call for `b`.  Update the element value to `2*i` and use a debugger \"expression\" to show each value.\n",
    "\n",
    "- Move on to `vec_dbl`.\n",
    "\n",
    "- 2-D arrays?\n",
    "\n",
    "- Garbage collection? "
   ]
  }
 ],
 "metadata": {
  "celltoolbar": "Slideshow",
  "kernelspec": {
   "display_name": "C++17",
   "language": "C++17",
   "name": "xcpp17"
  },
  "language_info": {
   "codemirror_mode": "text/x-c++src",
   "file_extension": ".cpp",
   "mimetype": "text/x-c++src",
   "name": "c++",
   "version": "-std=c++17"
  }
 },
 "nbformat": 4,
 "nbformat_minor": 2
}

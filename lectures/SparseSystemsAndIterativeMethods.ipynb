{
 "cells": [
  {
   "cell_type": "markdown",
   "metadata": {
    "slideshow": {
     "slide_type": "slide"
    }
   },
   "source": [
    "# Sparse Systems and Iterative Methods\n",
    "\n",
    "We'll look at `scipy.sparse` along with some basic principles of iterative methods, which are at the heart of many production-level simulation tools (e.g., most finite-element modelers)."
   ]
  },
  {
   "cell_type": "markdown",
   "metadata": {
    "slideshow": {
     "slide_type": "subslide"
    }
   },
   "source": [
    "## Required Preparation\n",
    "\n",
    "\n",
    "- Review [linear systems](http://robertsj.github.io/python_for_engineers/courses/pythonic_apps_2/modules/module_2/module_2.html)\n"
   ]
  },
  {
   "cell_type": "markdown",
   "metadata": {
    "slideshow": {
     "slide_type": "subslide"
    }
   },
   "source": [
    "## Project 1\n",
    "\n",
    " - Teams of 2 or 3 \n",
    " - Problem must be central to a core ME class (e.g., thermo, fluids, heat transfer, machine design)\n",
    " - Solution must incorporate something from SciPy, collaborate version control, and unit tests.  *Can* include object-oriented programming and GUIs.\n",
    " - Half-page (max) proposal due by 10/11.\n",
    " - Final project with three-page (max) report due by 11/08.\n",
    " \n",
    " \n",
    "Goal here is on the *development practice* and not on how challenging the problem is, how complicated the solution is, etc.  Breadth and depth will be checked at proposal stage."
   ]
  },
  {
   "cell_type": "markdown",
   "metadata": {
    "slideshow": {
     "slide_type": "slide"
    }
   },
   "source": [
    "# Why Sparse Systems?\n",
    "\n",
    "Consider our model problem $-k y'' = q$ subject to $y(0) = y_L$ and $y(1) = y_R$.  Application of the central difference led to\n",
    "\n",
    "$$\n",
    " \\left (  \\begin{matrix}\n",
    "  1 & 0 & \\cdots & &\\\\\n",
    " -\\frac{k}{\\Delta^2} & \\frac{2k}{\\Delta^2} & -\\frac{k}{\\Delta^2} & 0 & \\ldots \\\\\n",
    " 0 & -\\frac{k}{\\Delta^2} & \\frac{2k}{\\Delta^2} & -\\frac{k}{\\Delta^2} & 0 & \\ldots \\\\\n",
    "  &   & \\ddots &   & \\ddots \\\\\n",
    "  &   &  & \\ldots & 0 & 1\\\\\n",
    " \\end{matrix} \\right )\n",
    " \\left (  \\begin{matrix}\n",
    "  y_0 \\\\\n",
    "  y_1 \\\\\n",
    "  y_2 \\\\\n",
    "  \\vdots \\\\\n",
    "  y_{n-1} \\\\\n",
    " \\end{matrix} \\right ) \n",
    "= \n",
    " \\left (  \\begin{matrix}\n",
    "  y_L \\\\\n",
    "  q_1 \\\\\n",
    "  q_2 \\\\\n",
    "  \\vdots \\\\\n",
    "  y_R \\\\\n",
    " \\end{matrix} \\right ) \n",
    "$$"
   ]
  },
  {
   "cell_type": "markdown",
   "metadata": {
    "slideshow": {
     "slide_type": "fragment"
    }
   },
   "source": [
    "Questions:\n",
    "\n",
    "  - How many elements of the matrix are nonzero (assume $k > 0$)?\n",
    "  - If we use a regular `np.array` to store this matrix, how much does a matrix-vector product cost to compute (i.e., how many floating-point operations does it require)?  \n",
    "  - Approximately what fraction of those operations are wasted?\n",
    "  - Could you solve this system on your machine if $n = 10000$?"
   ]
  },
  {
   "cell_type": "markdown",
   "metadata": {
    "slideshow": {
     "slide_type": "subslide"
    }
   },
   "source": [
    "Let's construct the model system (and solve it) using tools we already have:"
   ]
  },
  {
   "cell_type": "code",
   "execution_count": null,
   "metadata": {
    "slideshow": {
     "slide_type": "fragment"
    }
   },
   "outputs": [],
   "source": [
    "import numpy as np\n",
    "def make_A_and_b(n, k=0.2, Delta = 0.1, y_L=0, y_R=0, q=1):\n",
    "    \"\"\"Make model \"\"\"\n",
    "    A = np.zeros((n, n))\n",
    "    b = np.ones(n)*q\n",
    "    b[0] = y_L; b[-1] = y_R\n",
    "    A[0, 0] = 1.0; A[-1, -1] = 1.0\n",
    "    for i in range(1, n-1):\n",
    "        A[i, i] = 2*k/Delta**2; A[i, i-1] = -k/Delta**2; A[i, i+1] = -k/Delta**2\n",
    "    return A, b\n",
    "A, b = make_A_and_b(5, Delta=1.0, y_L=1)\n",
    "np.linalg.solve(A, b)"
   ]
  },
  {
   "cell_type": "markdown",
   "metadata": {
    "slideshow": {
     "slide_type": "subslide"
    }
   },
   "source": [
    "Now, let's explore `scipy.sparse`.  Key commands:\n",
    "\n",
    "  - `scipy.sparse.csr_matrix`\n",
    "  - `scipy.sparse.linalg.spsolve`\n",
    "  - `scipy.sparse.csr_matrix`\n",
    "  - `scipy.sparse.csr_matrix.todense`\n",
    "  - `scipy.sparse.csr_matrix.diagonal`\n",
    "  - `scipy.sparse.diags`\n",
    "  - `scipy.sparse.tril` and `triu`"
   ]
  },
  {
   "cell_type": "code",
   "execution_count": null,
   "metadata": {
    "slideshow": {
     "slide_type": "subslide"
    }
   },
   "outputs": [],
   "source": [
    "import scipy as sp\n",
    "import scipy.sparse\n",
    "import scipy.sparse.linalg"
   ]
  },
  {
   "cell_type": "code",
   "execution_count": null,
   "metadata": {
    "slideshow": {
     "slide_type": "fragment"
    }
   },
   "outputs": [],
   "source": [
    "# Create a sparse matrix from A"
   ]
  },
  {
   "cell_type": "code",
   "execution_count": null,
   "metadata": {
    "slideshow": {
     "slide_type": "fragment"
    }
   },
   "outputs": [],
   "source": [
    "# Solve the sparse system"
   ]
  },
  {
   "cell_type": "markdown",
   "metadata": {
    "slideshow": {
     "slide_type": "subslide"
    }
   },
   "source": [
    "But we don't want to build a dense matrix in the first place..."
   ]
  },
  {
   "cell_type": "code",
   "execution_count": null,
   "metadata": {
    "slideshow": {
     "slide_type": "fragment"
    }
   },
   "outputs": [],
   "source": [
    "# Look at the structure of A_sparse"
   ]
  },
  {
   "cell_type": "code",
   "execution_count": null,
   "metadata": {
    "slideshow": {
     "slide_type": "fragment"
    }
   },
   "outputs": [],
   "source": [
    "# Build A_sparse again from that structure (other ways, too)"
   ]
  },
  {
   "cell_type": "markdown",
   "metadata": {
    "slideshow": {
     "slide_type": "slide"
    }
   },
   "source": [
    "## Iterative Methods\n",
    "\n",
    "Consider $ax = b$.  Easy to solve, but pretend you don't have division.  How about\n",
    "\n",
    "$$\n",
    "  x^{new} = (1 - a)x^{old} + b\n",
    "$$"
   ]
  },
  {
   "cell_type": "code",
   "execution_count": null,
   "metadata": {
    "slideshow": {
     "slide_type": "fragment"
    }
   },
   "outputs": [],
   "source": [
    "a = 0.5\n",
    "b = 1.0 # expect\n",
    "x = 0.0\n",
    "for i in range(100):\n",
    "    x = (1-a)*x + b\n",
    "    print(\"{:.4e} {:.4e}\".format(x, x-b/a))"
   ]
  },
  {
   "cell_type": "markdown",
   "metadata": {
    "slideshow": {
     "slide_type": "subslide"
    }
   },
   "source": [
    "For matrices, this becomes Richardson iteration:\n",
    "\n",
    "$$\n",
    "  \\mathbf{x}^{new} = (\\mathbf{I}-\\mathbf{A})\\mathbf{x}^{old} + \\mathbf{b} \\, .\n",
    "$$\n",
    "\n",
    "Works only if $||\\mathbf{I}-\\mathbf{A}|| < 1$, which is not true for many systems, including our model problem!\n",
    "\n",
    "Ultimately, iteration is good when (1) matrices are *sparse* and (2) the number of iterations is small."
   ]
  },
  {
   "cell_type": "markdown",
   "metadata": {
    "slideshow": {
     "slide_type": "fragment"
    }
   },
   "source": [
    "Better option: *precondition* the system with some matrix $\\mathbf{P}$, i.e., solve\n",
    "\n",
    "$$\n",
    "  \\mathbf{P}^{-1} \\mathbf{A} \\mathbf{x} = \\mathbf{P}^{-1} \\mathbf{b}\n",
    "$$"
   ]
  },
  {
   "cell_type": "markdown",
   "metadata": {
    "slideshow": {
     "slide_type": "fragment"
    }
   },
   "source": [
    "What's the \"best\" possible $\\mathbf{P}$?"
   ]
  },
  {
   "cell_type": "markdown",
   "metadata": {
    "slideshow": {
     "slide_type": "subslide"
    }
   },
   "source": [
    "## The Classical Schemes\n",
    "\n",
    "Let $\\mathbf{P}$ be the main diagonal $\\mathbf{D}$ of $\\mathbf{A}$.  Then,\n",
    "\n",
    "$$\n",
    "  \\mathbf{x}^{new} = (\\mathbf{I}-\\mathbf{D}^{-1}\\mathbf{A})\\mathbf{x}^{old} + \\mathbf{D}^{-1}\\mathbf{b} \\, .\n",
    "$$\n",
    "\n",
    "This is **Jacobi iteration**."
   ]
  },
  {
   "cell_type": "code",
   "execution_count": null,
   "metadata": {
    "slideshow": {
     "slide_type": "fragment"
    }
   },
   "outputs": [],
   "source": []
  },
  {
   "cell_type": "markdown",
   "metadata": {
    "slideshow": {
     "slide_type": "subslide"
    }
   },
   "source": [
    "Let $\\mathbf{P}$ be the main diagonal $\\mathbf{D+L}$ of $\\mathbf{A}$ (i.e., everything on and below the main diagonal.  Then,\n",
    "\n",
    "$$\n",
    "  \\mathbf{x}^{new} = (\\mathbf{I}-\\mathbf{(D+U)}^{-1}\\mathbf{A})\\mathbf{x}^{old} + \\mathbf{(D+U)}^{-1}\\mathbf{b} \\, .\n",
    "$$\n",
    "\n",
    "This is **Gauss-Seidel iteration**."
   ]
  },
  {
   "cell_type": "code",
   "execution_count": null,
   "metadata": {
    "slideshow": {
     "slide_type": "fragment"
    }
   },
   "outputs": [],
   "source": []
  },
  {
   "cell_type": "markdown",
   "metadata": {
    "slideshow": {
     "slide_type": "subslide"
    }
   },
   "source": [
    "## Advanced Schemes\n",
    "\n",
    "Several schemes exist that outperform Jacobi and Gauss Seidel. Many of these are *Krylov subspace* methods, e.g., GMRES.  All seek a solution $\\mathbf{x} \\in \\mathcal{K}_n = [\\mathbf{x}_0, \\mathbf{Ax}_0, \\mathbf{A}^2\\mathbf{x}_0, \\ldots \\mathbf{A}^{n-1}\\mathbf{x}_0]$.  "
   ]
  },
  {
   "cell_type": "code",
   "execution_count": null,
   "metadata": {
    "slideshow": {
     "slide_type": "fragment"
    }
   },
   "outputs": [],
   "source": []
  }
 ],
 "metadata": {
  "celltoolbar": "Slideshow",
  "kernelspec": {
   "display_name": "Python 3",
   "language": "python",
   "name": "python3"
  },
  "language_info": {
   "codemirror_mode": {
    "name": "ipython",
    "version": 3
   },
   "file_extension": ".py",
   "mimetype": "text/x-python",
   "name": "python",
   "nbconvert_exporter": "python",
   "pygments_lexer": "ipython3",
   "version": "3.7.3"
  },
  "livereveal": {
   "scroll": true
  }
 },
 "nbformat": 4,
 "nbformat_minor": 2
}

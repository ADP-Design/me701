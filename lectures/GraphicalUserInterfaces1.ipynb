{
 "cells": [
  {
   "cell_type": "markdown",
   "metadata": {
    "slideshow": {
     "slide_type": "slide"
    }
   },
   "source": [
    "# Graphical User Interfaces - Part 1\n",
    "\n",
    "Part one of a three-part introduction to basic GUIs using PyQt5.  In this lesson, we'll go over the basics of GUIs, and dive into PyQt5 for a simple (but illustrative) application."
   ]
  },
  {
   "cell_type": "markdown",
   "metadata": {
    "slideshow": {
     "slide_type": "subslide"
    }
   },
   "source": [
    "## Required Preparation\n",
    "\n",
    " - Go over the [First Programs](http://zetcode.com/gui/pyqt5/firstprograms/) in PyQt5\n",
    " - Skim this overview of [signals and slots](https://www.riverbankcomputing.com/static/Docs/PyQt5/signals_slots.html)\n",
    " - Take a look at the main [Qt site](http://www.qt.io)."
   ]
  },
  {
   "cell_type": "markdown",
   "metadata": {
    "slideshow": {
     "slide_type": "subslide"
    }
   },
   "source": [
    "## References\n",
    "\n",
    "  - M. Summerfield, *Rapid GUI Programming with Python and Qt* (somewhat outdated given its use of PyQt4)\n",
    "  - http://zetcode.com/gui/pyqt5/  (excellent site)\n",
    "  - www.qt.io"
   ]
  },
  {
   "cell_type": "markdown",
   "metadata": {
    "slideshow": {
     "slide_type": "subslide"
    }
   },
   "source": [
    "# To GUI of Not?\n",
    "\n",
    "Generally,\n",
    "- GUIs make easy things easier\n",
    "- Scripting makes hard things easier\n",
    "\n",
    "GUIs are good for\n",
    "- Self-contained problems with reasonably small, very well-defined inputs\n",
    "- Hands-on visualization (think SolidWorks; can often be scripted, though!)"
   ]
  },
  {
   "cell_type": "markdown",
   "metadata": {
    "slideshow": {
     "slide_type": "subslide"
    }
   },
   "source": [
    "## (G)UIs vs Traditional (\"Batch\") Programs\n",
    "\n",
    "<img src=\"batch_vs_gui.png\" alt=\"drawing\" width=\"600\"/>\n",
    "\n",
    "(From Summerfield, Ch. 4)"
   ]
  },
  {
   "cell_type": "markdown",
   "metadata": {
    "slideshow": {
     "slide_type": "slide"
    }
   },
   "source": [
    "## Dive into PyQt\n",
    "\n",
    "By default, a complete Anaconda installation has `PyQt5` (it actually drives Spyder!).  "
   ]
  },
  {
   "cell_type": "code",
   "execution_count": null,
   "metadata": {
    "slideshow": {
     "slide_type": "fragment"
    }
   },
   "outputs": [],
   "source": [
    "import PyQt5\n",
    "dir(PyQt5)"
   ]
  },
  {
   "cell_type": "code",
   "execution_count": null,
   "metadata": {
    "slideshow": {
     "slide_type": "subslide"
    }
   },
   "outputs": [],
   "source": [
    "import PyQt5.QtWidgets\n",
    "dir(PyQt5)"
   ]
  },
  {
   "cell_type": "code",
   "execution_count": null,
   "metadata": {
    "slideshow": {
     "slide_type": "subslide"
    }
   },
   "outputs": [],
   "source": [
    "dir(PyQt5.QtWidgets)"
   ]
  },
  {
   "cell_type": "markdown",
   "metadata": {
    "slideshow": {
     "slide_type": "subslide"
    }
   },
   "source": [
    "## The Basic Structure of a PyQt5 Applications\n",
    "\n",
    "```python\n",
    "import PyQt5\n",
    "import PyQt5.QtWidgets\n",
    "import sys\n",
    "\n",
    "app = PyQt5.QtWidgets.QApplication(sys.argv) # the application\n",
    "widget = some widget                         # the main widget\n",
    "widget.show()                                # show the main widget\n",
    "app.exec_()                                  # start the event loop\n",
    "```\n",
    "\n",
    "What are [widgets](https://doc.qt.io/qt-5/widget-classes.html#the-widget-classes)?"
   ]
  },
  {
   "cell_type": "markdown",
   "metadata": {
    "collapsed": true,
    "slideshow": {
     "slide_type": "slide"
    }
   },
   "source": [
    "## Exercise 1\n",
    "\n",
    "Use the base `QWidget` class to produce your first \"GUI.\"  Of course, find a way to say `\"Hello World\"`.  (Hint: use `dir(widget)` and look for methods that start with `set`)."
   ]
  },
  {
   "cell_type": "markdown",
   "metadata": {
    "slideshow": {
     "slide_type": "subslide"
    }
   },
   "source": [
    "## Exercise 2\n",
    "\n",
    "Switch out your base `Widget` object for one of the `QLabel` class.  Can you use some `html` to make a bolder statement?  (Hint: try `'<font size=14>Hello World</font>'`)."
   ]
  },
  {
   "cell_type": "markdown",
   "metadata": {
    "slideshow": {
     "slide_type": "slide"
    }
   },
   "source": [
    "## Slots and Signals\n",
    "\n",
    "A *signal* indicates that some user action has been initiated.  Examples:\n",
    "  \n",
    "   - Return key pressed\n",
    "   - Button clicked"
   ]
  },
  {
   "cell_type": "markdown",
   "metadata": {
    "slideshow": {
     "slide_type": "fragment"
    }
   },
   "source": [
    "A *slot* is a method (likely user defined) that is called when a signal is emitted.  Slots are connected to signals."
   ]
  },
  {
   "cell_type": "markdown",
   "metadata": {
    "slideshow": {
     "slide_type": "subslide"
    }
   },
   "source": [
    "Consider the following:\n",
    "\n",
    "```python\n",
    "widget = PyQt5.QtWidgets.QLineEdit()\n",
    "def myslot(args=None):\n",
    "    print(\"hello world\", args)\n",
    "widget.returnPressed.connect(myslot)\n",
    "```"
   ]
  },
  {
   "cell_type": "markdown",
   "metadata": {
    "slideshow": {
     "slide_type": "subslide"
    }
   },
   "source": [
    "## Exercise 3\n",
    "\n",
    "Can we make text appear in the `QLineEdit` box?  Can it come from the command line?  Change upon return being entered?  What other signals can you use?"
   ]
  }
 ],
 "metadata": {
  "celltoolbar": "Slideshow",
  "kernelspec": {
   "display_name": "Python 3",
   "language": "python",
   "name": "python3"
  },
  "language_info": {
   "codemirror_mode": {
    "name": "ipython",
    "version": 3
   },
   "file_extension": ".py",
   "mimetype": "text/x-python",
   "name": "python",
   "nbconvert_exporter": "python",
   "pygments_lexer": "ipython3",
   "version": "3.7.3"
  },
  "livereveal": {
   "scroll": true
  }
 },
 "nbformat": 4,
 "nbformat_minor": 2
}

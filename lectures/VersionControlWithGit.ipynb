{
 "cells": [
  {
   "cell_type": "markdown",
   "metadata": {
    "slideshow": {
     "slide_type": "slide"
    }
   },
   "source": [
    "# Version Control with `git`\n",
    "\n",
    "By the end of this lesson, you should be able to create a new repository locally or via `GitHub`, make changes, commit changes, and push those changes to a remote destination (e.g., `GitHub`).  Moreover, you should have made your first commit for Homework 1."
   ]
  },
  {
   "cell_type": "markdown",
   "metadata": {
    "slideshow": {
     "slide_type": "subslide"
    }
   },
   "source": [
    "## Required Preparation\n",
    "\n",
    "- Skim *Pro Git* chapters 1, 2, 3. \n",
    "- Initiate your own `git` \"cheat sheet\"\n",
    "- Get an account on `github.com`\n",
    "- Click on the link in homework 1 and connect your account"
   ]
  },
  {
   "cell_type": "markdown",
   "metadata": {
    "slideshow": {
     "slide_type": "slide"
    }
   },
   "source": [
    "# What *Is* Version Control?"
   ]
  },
  {
   "cell_type": "markdown",
   "metadata": {
    "slideshow": {
     "slide_type": "subslide"
    }
   },
   "source": [
    "Most of us have been there:\n",
    "\n",
    "```bash\n",
    "robertsj@sampo ~/tmp/cluttered_mess $ ls\n",
    "FinalReport2_AE.docx  FinalReport2.docx  FinalReport.docx  FinalReportFinal3.docx  FinalReport_JR.docx\n",
    "```\n",
    "\n",
    "I call this \"cave-person version control.\"  It's better than overwriting the same file, but it's a heck of a pain to use for tracking changes, undoing changes, and collaborating."
   ]
  },
  {
   "cell_type": "markdown",
   "metadata": {
    "slideshow": {
     "slide_type": "subslide"
    }
   },
   "source": [
    "## How `git` Organizes Changes\n",
    "\n",
    "<img src=\"https://git-scm.com/book/en/v2/images/snapshots.png\" alt=\"drawing\" width=\"800\"/>"
   ]
  },
  {
   "cell_type": "markdown",
   "metadata": {
    "slideshow": {
     "slide_type": "subslide"
    }
   },
   "source": [
    "## What `git` Sees\n",
    "\n",
    "<img src=\"https://git-scm.com/book/en/v2/images/areas.png\" alt=\"drawing\" width=\"600\"/>\n",
    "\n",
    "**Important**: every `git` repository looks like a regular directory to *the user*."
   ]
  },
  {
   "cell_type": "markdown",
   "metadata": {
    "slideshow": {
     "slide_type": "slide"
    }
   },
   "source": [
    "# Diving Into `git`"
   ]
  },
  {
   "cell_type": "markdown",
   "metadata": {
    "slideshow": {
     "slide_type": "fragment"
    }
   },
   "source": [
    "Set up your `git` environment:\n",
    "\n",
    "```bash\n",
    "git config --global user.name \"Margaret Hamilton\"\n",
    "git config --global user.email mhamilton@nasa.gov\n",
    "```"
   ]
  },
  {
   "cell_type": "markdown",
   "metadata": {
    "slideshow": {
     "slide_type": "fragment"
    }
   },
   "source": [
    "Optional (if you don't like `nano`):\n",
    "\n",
    "\n",
    "```bash\n",
    "git config --global core.editor gedit\n",
    "```\n"
   ]
  },
  {
   "cell_type": "markdown",
   "metadata": {
    "slideshow": {
     "slide_type": "subslide"
    }
   },
   "source": [
    "# Basic `git` Commands for Today\n",
    "\n",
    "```bash\n",
    "git init\n",
    "git clone ???\n",
    "git status \n",
    "git add ???\n",
    "git commit ???\n",
    "git push ???\n",
    "git log ???\n",
    "git reset ???\n",
    "git checkout ???\n",
    "git merge ???\n",
    "```\n",
    "\n",
    "(the `???` indicates we'll use some options or set some arguments)\n"
   ]
  },
  {
   "cell_type": "markdown",
   "metadata": {
    "slideshow": {
     "slide_type": "subslide"
    }
   },
   "source": [
    "When in doubt, ask for help, e.g.,\n",
    "\n",
    "```bash\n",
    "git help\n",
    "```\n",
    "\n",
    "or\n",
    "\n",
    "```bash\n",
    "git help add\n",
    "```"
   ]
  },
  {
   "cell_type": "markdown",
   "metadata": {
    "slideshow": {
     "slide_type": "slide"
    }
   },
   "source": [
    "## Activity 1 - Homework 1\n",
    "\n",
    "Goal: make a first change and commit!  (Can/should do same for the \"participation\" log.)"
   ]
  },
  {
   "cell_type": "markdown",
   "metadata": {
    "slideshow": {
     "slide_type": "slide"
    }
   },
   "source": [
    "## Activity 2 - A Simple `dev/master` Cycle\n",
    "\n",
    "Goal: create repository and go through one or more cycles of development and merging into the master branch."
   ]
  }
 ],
 "metadata": {
  "celltoolbar": "Slideshow",
  "kernelspec": {
   "display_name": "Python 3",
   "language": "python",
   "name": "python3"
  },
  "language_info": {
   "codemirror_mode": {
    "name": "ipython",
    "version": 3
   },
   "file_extension": ".py",
   "mimetype": "text/x-python",
   "name": "python",
   "nbconvert_exporter": "python",
   "pygments_lexer": "ipython3",
   "version": "3.7.3"
  },
  "livereveal": {
   "scroll": true
  }
 },
 "nbformat": 4,
 "nbformat_minor": 2
}

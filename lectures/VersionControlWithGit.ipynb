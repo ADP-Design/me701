{
 "cells": [
  {
   "cell_type": "markdown",
   "metadata": {
    "slideshow": {
     "slide_type": "slide"
    }
   },
   "source": [
    "# Version Control with `git`\n",
    "\n",
    "By the end of this lesson, you should be able to create a new repository locally or via `GitHub`, make changes, commit changes, and push those changes to a remote destination (e.g., `GitHub`).  Moreover, you should have made your first commit for Homework 1."
   ]
  },
  {
   "cell_type": "markdown",
   "metadata": {
    "slideshow": {
     "slide_type": "subslide"
    }
   },
   "source": [
    "## Required Preparation\n",
    "\n",
    "- Skim *Pro Git* chapters 1 and 2. \n",
    "- Initiate your own `git` \"cheat sheet\"\n",
    "- Get an account on `github.com`\n",
    "- Click on the link in homework 1 and connect your account"
   ]
  },
  {
   "cell_type": "markdown",
   "metadata": {
    "slideshow": {
     "slide_type": "slide"
    }
   },
   "source": [
    "# What *Is* Version Control?"
   ]
  },
  {
   "cell_type": "markdown",
   "metadata": {
    "slideshow": {
     "slide_type": "subslide"
    }
   },
   "source": [
    "Most of us have been there:\n",
    "\n",
    "```bash\n",
    "robertsj@sampo ~/tmp/cluttered_mess $ ls\n",
    "FinalReport2_AE.docx  FinalReport2.docx  FinalReport.docx  FinalReportFinal3.docx  FinalReport_JR.docx\n",
    "```\n",
    "\n",
    "I call this \"cave-person version control.\"  It's better than overwriting the same file, but it's a heck of a pain to use for tracking changes, undoing changes, and collaborating."
   ]
  },
  {
   "cell_type": "markdown",
   "metadata": {
    "slideshow": {
     "slide_type": "slide"
    }
   },
   "source": [
    "## Neat use of `diff`\n",
    "\n",
    "For text-based projects, version control is easy based on file *differences*, i.e., `diff file file.v1`.\n",
    "\n",
    "For binary files, no such `diff` works easily.  "
   ]
  },
  {
   "cell_type": "markdown",
   "metadata": {
    "slideshow": {
     "slide_type": "slide"
    }
   },
   "source": [
    "# Diving Into `git`"
   ]
  },
  {
   "cell_type": "markdown",
   "metadata": {
    "slideshow": {
     "slide_type": "fragment"
    }
   },
   "source": [
    "Set up your `git` environment:\n",
    "\n",
    "```bash\n",
    "git config --global user.name \"Margaret Hamilton\"\n",
    "git config --global user.email mhamilton@nasa.gov\n",
    "```"
   ]
  },
  {
   "cell_type": "markdown",
   "metadata": {
    "slideshow": {
     "slide_type": "fragment"
    }
   },
   "source": [
    "Optional (if you don't like `nano`):\n",
    "\n",
    "\n",
    "```bash\n",
    "git config --global core.editor emacs\n",
    "```\n"
   ]
  },
  {
   "cell_type": "markdown",
   "metadata": {
    "slideshow": {
     "slide_type": "subslide"
    }
   },
   "source": [
    "# Basic `git` Commands for Today\n",
    "\n",
    "```bash\n",
    "git init\n",
    "git clone\n",
    "git status \n",
    "git add ???\n",
    "git commit ???\n",
    "git push ???\n",
    "git log\n",
    "git reset\n",
    "```"
   ]
  },
  {
   "cell_type": "markdown",
   "metadata": {
    "slideshow": {
     "slide_type": "subslide"
    }
   },
   "source": [
    "When in doubt, ask for help, e.g.,\n",
    "\n",
    "```bash\n",
    "git help\n",
    "```\n",
    "\n",
    "or\n",
    "\n",
    "```bash\n",
    "git help add\n",
    "```"
   ]
  },
  {
   "cell_type": "markdown",
   "metadata": {
    "slideshow": {
     "slide_type": "slide"
    }
   },
   "source": [
    "## Working With Your Pull-Request Partners\n",
    "\n",
    "Suppose your username on GitHub is `yoda`.  Suppose you are to make a pull request to `luke`.  Suppose `rey` is to make a pull request to you.\n",
    "\n",
    "You have this repository initialized on GitHub:\n",
    "\n",
    "```\n",
    "https://github.com/corps-g/homework-2-yoda\n",
    "```\n",
    "\n",
    "You friend `luke` has this one, which you should *fork*:\n",
    "\n",
    "```\n",
    "https://github.com/corps-g/homework-2-luke\n",
    "```\n",
    "\n",
    "Once you fork it, you'll have this one:\n",
    "\n",
    "```\n",
    "https://github.com/yoda/homework-2-luke\n",
    "```\n",
    "\n",
    "Clone this via \n",
    "\n",
    "```bash\n",
    "git clone https://github.com/yoda/homework-2-luke.git\n",
    "```\n",
    "\n",
    "Make a new branch called `dev`:\n",
    "\n",
    "```bash\n",
    "cd homework-2-luke-git\n",
    "git checkout -b dev\n",
    "```\n",
    "\n",
    "Make a change, e.g., adding a new file, modifying an existing one, etc.  Make your commits and then push:\n",
    "\n",
    "```\n",
    "git push origin dev\n",
    "```\n",
    "\n",
    "What's origin?  That's your default remote.  List all via:\n",
    "\n",
    "```\n",
    "git remote -v\n",
    "```\n",
    "\n",
    "Make a PR into `corps-g/homework-2-luke` by navigating GitHub as shown in class."
   ]
  },
  {
   "cell_type": "markdown",
   "metadata": {
    "slideshow": {
     "slide_type": "slide"
    }
   },
   "source": [
    "## Syncing Remotes\n",
    "\n",
    "Alas, forks are not automatically updated.  For example, suppose `luke` made some changes to `corps-g/homework-2-luke` in the `master` branch.  These changes will not show up in `yoda/homework-2-luke`.  You need to get those changes yourself.\n",
    "\n",
    "```\n",
    "git remote add luke https://github.com/corps-g/homework-2-luke\n",
    "```\n",
    "\n",
    "This adds a new remote called `luke` that, like `origin`, represents a repository located somewhere else (the internet, a separate `git` repo on your machine or cluster, etc.).\n",
    "\n",
    "Download any changes `luke` made by executing\n",
    "\n",
    "```\n",
    "git fetch luke\n",
    "```\n",
    "\n",
    "Merge changes in `luke/master` into your current branch by executing\n",
    "\n",
    "```\n",
    "git merge luke/master\n",
    "```\n",
    "\n",
    "Now, your current branch is up-to-date with whatever `luke` has on GitHub."
   ]
  },
  {
   "cell_type": "code",
   "execution_count": null,
   "metadata": {},
   "outputs": [],
   "source": []
  }
 ],
 "metadata": {
  "celltoolbar": "Slideshow",
  "kernelspec": {
   "display_name": "Bash",
   "language": "bash",
   "name": "bash"
  },
  "language_info": {
   "codemirror_mode": "shell",
   "file_extension": ".sh",
   "mimetype": "text/x-sh",
   "name": "bash"
  },
  "livereveal": {
   "scroll": true
  }
 },
 "nbformat": 4,
 "nbformat_minor": 2
}
